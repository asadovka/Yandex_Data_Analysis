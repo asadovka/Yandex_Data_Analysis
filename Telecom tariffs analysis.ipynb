{
 "cells": [
  {
   "cell_type": "markdown",
   "metadata": {},
   "source": [
    "<div class=\"alert alert-success\">\n",
    "<font size=\"5\"><b>Комментарий ревьюера 2</b></font>\n",
    "\n",
    "Привет еще раз. Спасибо, что доделал работу. Оформление комментариев по работе сохраняется. Только обозначим, что это вторая итерация. \n",
    "\n",
    "</div>"
   ]
  },
  {
   "cell_type": "markdown",
   "metadata": {},
   "source": [
    "<div class=\"alert alert-success\">\n",
    "<font size=\"5\"><b>Комментарий ревьюера</b></font>\n",
    "\n",
    "Привет! Спасибо, что прислал задание:) Меня зовут Слепцов Артем и я буду проверять твой проект. Мы с тобой уже знакомы) Ты проделал большую работу над проектом. Давай его еще улучшим! Будет здорово, если ты, надеюсь, не против, если я буду на ты, будешь отвечать на комментарии и участвовать в диалоге. \n",
    "\n",
    "Мои комментарии обозначены пометкой **Комментарий ревьюера**. Далее в файле ты сможешь найти их в похожих ячейках (если фон комментария <font color=green>зелёный</font> - всё сделано правильно. Рекомендации укажу таким же цветом; <font color=orange>оранжевый</font> - некритичные замечания. Если таких замечаний меньше трех - проект может быть принят без их отработки; <font color=red>красный</font> - нужно переделать). Не удаляй эти комментарии и постарайся учесть их в ходе выполнения данного проекта. \n",
    "\n",
    "</div>"
   ]
  },
  {
   "cell_type": "markdown",
   "metadata": {},
   "source": [
    "# Проект №3. Определение перспективного тарифа для телеком компании"
   ]
  },
  {
   "cell_type": "markdown",
   "metadata": {},
   "source": [
    "# Оглавление\n",
    "1. [Введение](#section1)\n",
    "    * [Описание проекта](#section1.1)\n",
    "    * [Описание тарифов](#section1.2)\n",
    "    * [Описание данных](#section1.3)\n",
    "\n",
    "\n",
    "2. [Изучение общей информации о наборе данных](#section2)\n",
    "    * [Обзор датасета](#section2.1)\n",
    "    * [Выводы второго раздела](#section2.2)\n",
    "    \n",
    "    \n",
    "3. [Предобработка данных](#section3)\n",
    "    * [Устранение ошибок в данных](#section3.1)\n",
    "    * [Приведение данных к нужным типам](#section3.2)\n",
    "    * [Выводы третьего раздела](#section3.3)\n",
    "    \n",
    "    \n",
    "4. [Расчет и добавление новых данных](#section4)\n",
    "    * [Количество сделанных звонков и израсходованных минут разговора по месяцам](#section4.1)\n",
    "    * [Количество отправленных сообщений по месяцам](#section4.2)\n",
    "    * [Объем израсходованного интернет-трафика по месяцам](#section4.3)\n",
    "    * [Расчет помесячной выручки с каждого пользователя](#section4.4)\n",
    "    * [Выводы четвертого раздела](#section4.5)\n",
    "    \n",
    "    \n",
    "5. [Описание поведения клиентов](#section5)\n",
    "    * [Расчет среднего значения, дисперсии и стандартного отклонения использованных минут, сообщений и траффика по каждому тарифу](#section5.1)\n",
    "    * [Анализ использованных минут по каждому тарифу за месяц](#section5.2)\n",
    "    * [Анализ использованных сообщений по каждому тарифу за месяц](#section5.3)\n",
    "    * [Анализ использованного траффика по каждому тарифу за месяц](#section5.4)\n",
    "    * [Анализ средней выручки](#section5.5)\n",
    "    * [Выводы пятого раздела](#section5.6)\n",
    "    \n",
    "    \n",
    "6. [Проверка статистических гипотез](#section6)\n",
    "    * [Гипотеза 1. Средняя выручка пользователей тарифов «Ультра» и «Смарт» различается](#section6.1)\n",
    "    * [Гипотеза 2. Средняя выручка пользователей из Москвы отличается от выручки пользователей из других регионов](#section6.2)\n",
    "    * [Выводы шестого раздела](#section6.3)\n",
    "    \n",
    "    \n",
    "7. [Общие выводы проекта](#section7)   "
   ]
  },
  {
   "cell_type": "markdown",
   "metadata": {},
   "source": [
    "<a id='section1'></a>\n",
    "## Введение"
   ]
  },
  {
   "cell_type": "markdown",
   "metadata": {},
   "source": [
    "<a id='section1.1'></a>\n",
    "### Описание проекта\n",
    "Вы аналитик компании «Мегалайн» — федерального оператора сотовой связи. Клиентам предлагают два тарифных плана: «Смарт» и «Ультра». Чтобы скорректировать рекламный бюджет, коммерческий департамент хочет понять, какой тариф приносит больше денег.\n",
    "Вам предстоит сделать предварительный анализ тарифов на небольшой выборке клиентов. В вашем распоряжении данные 500 пользователей «Мегалайна»: кто они, откуда, каким тарифом пользуются, сколько звонков и сообщений каждый отправил за 2018 год. Нужно проанализировать поведение клиентов и сделать вывод — какой тариф лучше."
   ]
  },
  {
   "cell_type": "markdown",
   "metadata": {},
   "source": [
    "<a id='section1.2'></a>\n",
    "### Описание тарифов\n",
    "\n",
    "**Тариф «Смарт»**\n",
    "- Ежемесячная плата: 550 рублей\n",
    "- Включено 500 минут разговора, 50 сообщений и 15 Гб интернет-трафика\n",
    "- Стоимость услуг сверх тарифного пакета: \n",
    "    - минута разговора: 3 рубля \n",
    "    - сообщение: 3 рубля\n",
    "    - 1 Гб интернет-трафика: 200 рублей\n",
    "\n",
    "\n",
    "**Тариф «Ультра»**\n",
    "- Ежемесячная плата: 1950 рублей\n",
    "- Включено 3000 минут разговора, 1000 сообщений и 30 Гб интернет-трафика\n",
    "- Стоимость услуг сверх тарифного пакета:\n",
    "    - минута разговора: 1 рубль\n",
    "    - сообщение: 1 рубль\n",
    "    - 1 Гб интернет-трафика: 150 рублей\n",
    "\n",
    "\n",
    "Обратите внимание: «Мегалайн» всегда округляет вверх значения минут и мегабайтов. Если пользователь проговорил всего 1 секунду, в тарифе засчитывается целая минута."
   ]
  },
  {
   "cell_type": "markdown",
   "metadata": {},
   "source": [
    "<a id='section1.3'></a>\n",
    "### Описание данных\n",
    "\n",
    "**Датасет**\n",
    "- /datasets/calls.csv\n",
    "- /datasets/internet.csv\n",
    "- /datasets/messages.csv\n",
    "- /datasets/tariffs.csv\n",
    "- /datasets/users.csv\n",
    "\n",
    "\n",
    "**Таблица users (информация о пользователях):**\n",
    "- user_id — уникальный идентификатор пользователя\n",
    "- first_name — имя пользователя\n",
    "- last_name — фамилия пользователя\n",
    "- age — возраст пользователя (годы)\n",
    "- reg_date — дата подключения тарифа (день, месяц, год)\n",
    "- churn_date — дата прекращения пользования тарифом (если значение пропущено, то тариф ещё действовал на момент выгрузки данных)\n",
    "- city — город проживания пользователя\n",
    "- tariff — название тарифного плана\n",
    "\n",
    "\n",
    "**Таблица calls (информация о звонках):**\n",
    "- id — уникальный номер звонка\n",
    "- call_date — дата звонка\n",
    "- duration — длительность звонка в минутах\n",
    "- user_id — идентификатор пользователя, сделавшего звонок\n",
    "\n",
    "\n",
    "**Таблица messages (информация о сообщениях):**\n",
    "- id — уникальный номер сообщения\n",
    "- message_date — дата сообщения\n",
    "- user_id — идентификатор пользователя, отправившего сообщение\n",
    "\n",
    "\n",
    "**Таблица internet (информация об интернет-сессиях):**\n",
    "- id — уникальный номер сессии\n",
    "- mb_used — объём потраченного за сессию интернет-трафика (в мегабайтах)\n",
    "- session_date — дата интернет-сессии\n",
    "- user_id — идентификатор пользователя\n",
    "\n",
    "\n",
    "**Таблица tariffs (информация о тарифах):**\n",
    "- tariff_name — название тарифа\n",
    "- rub_monthly_fee — ежемесячная абонентская плата в рублях\n",
    "- minutes_included — количество минут разговора в месяц, включённых в абонентскую плату\n",
    "- messages_included — количество сообщений в месяц, включённых в абонентскую плату\n",
    "- mb_per_month_included — объём интернет-трафика, включённого в абонентскую плату (в мегабайтах)\n",
    "- rub_per_minute — стоимость минуты разговора сверх тарифного пакета (например, если в тарифе 100 минут разговора в месяц, то со 101 минуты будет взиматься плата)\n",
    "- rub_per_message — стоимость отправки сообщения сверх тарифного пакета\n",
    "- rub_per_gb — стоимость дополнительного гигабайта интернет-трафика сверх тарифного пакета (1 гигабайт = 1024 мегабайта)\n",
    "\n",
    "\n",
    "Примечание. Если объединение таблиц методом merge приводит к ошибке dead kernell, примените метод join — это облегчит нагрузку на Jupyter Notebook."
   ]
  },
  {
   "cell_type": "markdown",
   "metadata": {},
   "source": [
    "<div class=\"alert alert-success\">\n",
    "<font size=\"5\"><b>Комментарий ревьюера</b></font>\n",
    "\n",
    "Вступление в работу очень важно. Так ты поясняешь то, чему она посвящена. Здорово, что каждому пункту вводной информации ты уделил внимание. \n",
    "\n",
    "</div>"
   ]
  },
  {
   "cell_type": "markdown",
   "metadata": {},
   "source": [
    "<a id='section2'></a>\n",
    "## Изучение общей информации о наборе данных"
   ]
  },
  {
   "cell_type": "markdown",
   "metadata": {},
   "source": [
    "<a id='section2.1'></a>\n",
    "### Обзор датасета"
   ]
  },
  {
   "cell_type": "code",
   "execution_count": 1,
   "metadata": {},
   "outputs": [],
   "source": [
    "import pandas as pd\n",
    "import matplotlib.pyplot as plt\n",
    "import numpy as np\n",
    "import warnings\n",
    "warnings.filterwarnings('ignore')\n",
    "from scipy import stats as st\n",
    "from scipy.stats import levene\n",
    "\n",
    "users = pd.read_csv('/datasets/users.csv')\n",
    "internet = pd.read_csv('/datasets/internet.csv')\n",
    "messages = pd.read_csv('/datasets/messages.csv')\n",
    "tariffs = pd.read_csv('/datasets/tariffs.csv')\n",
    "calls = pd.read_csv('/datasets/calls.csv')"
   ]
  },
  {
   "cell_type": "markdown",
   "metadata": {},
   "source": [
    "<div class=\"alert alert-success\">\n",
    "<font size=\"5\"><b>Комментарий ревьюера</b></font>\n",
    "\n",
    "Правильно, что весь импорт ты проводишь в первой ячейке работы. Так твой коллега, запускающий работу, будет в курсе используемых в ней библиотек и сможет при необходимости быстро настроить окружение. \n",
    "\n",
    "</div>"
   ]
  },
  {
   "cell_type": "markdown",
   "metadata": {},
   "source": [
    "#### Обзор таблицы **users**"
   ]
  },
  {
   "cell_type": "code",
   "execution_count": 2,
   "metadata": {},
   "outputs": [
    {
     "name": "stdout",
     "output_type": "stream",
     "text": [
      "Случайные 10 строк таблицы:\n"
     ]
    },
    {
     "data": {
      "text/html": [
       "<div>\n",
       "<style scoped>\n",
       "    .dataframe tbody tr th:only-of-type {\n",
       "        vertical-align: middle;\n",
       "    }\n",
       "\n",
       "    .dataframe tbody tr th {\n",
       "        vertical-align: top;\n",
       "    }\n",
       "\n",
       "    .dataframe thead th {\n",
       "        text-align: right;\n",
       "    }\n",
       "</style>\n",
       "<table border=\"1\" class=\"dataframe\">\n",
       "  <thead>\n",
       "    <tr style=\"text-align: right;\">\n",
       "      <th></th>\n",
       "      <th>user_id</th>\n",
       "      <th>age</th>\n",
       "      <th>churn_date</th>\n",
       "      <th>city</th>\n",
       "      <th>first_name</th>\n",
       "      <th>last_name</th>\n",
       "      <th>reg_date</th>\n",
       "      <th>tariff</th>\n",
       "    </tr>\n",
       "  </thead>\n",
       "  <tbody>\n",
       "    <tr>\n",
       "      <td>90</td>\n",
       "      <td>1090</td>\n",
       "      <td>54</td>\n",
       "      <td>2018-12-03</td>\n",
       "      <td>Череповец</td>\n",
       "      <td>Екатерина</td>\n",
       "      <td>Астафьева</td>\n",
       "      <td>2018-10-11</td>\n",
       "      <td>ultra</td>\n",
       "    </tr>\n",
       "    <tr>\n",
       "      <td>117</td>\n",
       "      <td>1117</td>\n",
       "      <td>42</td>\n",
       "      <td>NaN</td>\n",
       "      <td>Тюмень</td>\n",
       "      <td>Дана</td>\n",
       "      <td>Меркулова</td>\n",
       "      <td>2018-12-10</td>\n",
       "      <td>smart</td>\n",
       "    </tr>\n",
       "    <tr>\n",
       "      <td>213</td>\n",
       "      <td>1213</td>\n",
       "      <td>26</td>\n",
       "      <td>NaN</td>\n",
       "      <td>Ставрополь</td>\n",
       "      <td>Гайдар</td>\n",
       "      <td>Соловьев</td>\n",
       "      <td>2018-08-17</td>\n",
       "      <td>smart</td>\n",
       "    </tr>\n",
       "    <tr>\n",
       "      <td>107</td>\n",
       "      <td>1107</td>\n",
       "      <td>45</td>\n",
       "      <td>NaN</td>\n",
       "      <td>Орёл</td>\n",
       "      <td>Руслан</td>\n",
       "      <td>Воронин</td>\n",
       "      <td>2018-07-20</td>\n",
       "      <td>smart</td>\n",
       "    </tr>\n",
       "    <tr>\n",
       "      <td>474</td>\n",
       "      <td>1474</td>\n",
       "      <td>66</td>\n",
       "      <td>NaN</td>\n",
       "      <td>Набережные Челны</td>\n",
       "      <td>Олег</td>\n",
       "      <td>Любимов</td>\n",
       "      <td>2018-11-11</td>\n",
       "      <td>ultra</td>\n",
       "    </tr>\n",
       "    <tr>\n",
       "      <td>115</td>\n",
       "      <td>1115</td>\n",
       "      <td>71</td>\n",
       "      <td>NaN</td>\n",
       "      <td>Москва</td>\n",
       "      <td>Рашид</td>\n",
       "      <td>Толкачев</td>\n",
       "      <td>2018-07-28</td>\n",
       "      <td>smart</td>\n",
       "    </tr>\n",
       "    <tr>\n",
       "      <td>325</td>\n",
       "      <td>1325</td>\n",
       "      <td>63</td>\n",
       "      <td>NaN</td>\n",
       "      <td>Новосибирск</td>\n",
       "      <td>Артём</td>\n",
       "      <td>Федосеев</td>\n",
       "      <td>2018-06-12</td>\n",
       "      <td>ultra</td>\n",
       "    </tr>\n",
       "    <tr>\n",
       "      <td>41</td>\n",
       "      <td>1041</td>\n",
       "      <td>58</td>\n",
       "      <td>NaN</td>\n",
       "      <td>Москва</td>\n",
       "      <td>Михаил</td>\n",
       "      <td>Кравцов</td>\n",
       "      <td>2018-11-29</td>\n",
       "      <td>smart</td>\n",
       "    </tr>\n",
       "    <tr>\n",
       "      <td>237</td>\n",
       "      <td>1237</td>\n",
       "      <td>43</td>\n",
       "      <td>NaN</td>\n",
       "      <td>Москва</td>\n",
       "      <td>Алина</td>\n",
       "      <td>Кошелева</td>\n",
       "      <td>2018-11-04</td>\n",
       "      <td>smart</td>\n",
       "    </tr>\n",
       "    <tr>\n",
       "      <td>340</td>\n",
       "      <td>1340</td>\n",
       "      <td>50</td>\n",
       "      <td>NaN</td>\n",
       "      <td>Пенза</td>\n",
       "      <td>Тимофей</td>\n",
       "      <td>Алютин</td>\n",
       "      <td>2018-01-30</td>\n",
       "      <td>smart</td>\n",
       "    </tr>\n",
       "  </tbody>\n",
       "</table>\n",
       "</div>"
      ],
      "text/plain": [
       "     user_id  age  churn_date              city first_name  last_name  \\\n",
       "90      1090   54  2018-12-03         Череповец  Екатерина  Астафьева   \n",
       "117     1117   42         NaN            Тюмень       Дана  Меркулова   \n",
       "213     1213   26         NaN        Ставрополь     Гайдар   Соловьев   \n",
       "107     1107   45         NaN              Орёл     Руслан    Воронин   \n",
       "474     1474   66         NaN  Набережные Челны       Олег    Любимов   \n",
       "115     1115   71         NaN            Москва      Рашид   Толкачев   \n",
       "325     1325   63         NaN       Новосибирск      Артём   Федосеев   \n",
       "41      1041   58         NaN            Москва     Михаил    Кравцов   \n",
       "237     1237   43         NaN            Москва      Алина   Кошелева   \n",
       "340     1340   50         NaN             Пенза    Тимофей     Алютин   \n",
       "\n",
       "       reg_date tariff  \n",
       "90   2018-10-11  ultra  \n",
       "117  2018-12-10  smart  \n",
       "213  2018-08-17  smart  \n",
       "107  2018-07-20  smart  \n",
       "474  2018-11-11  ultra  \n",
       "115  2018-07-28  smart  \n",
       "325  2018-06-12  ultra  \n",
       "41   2018-11-29  smart  \n",
       "237  2018-11-04  smart  \n",
       "340  2018-01-30  smart  "
      ]
     },
     "metadata": {},
     "output_type": "display_data"
    },
    {
     "name": "stdout",
     "output_type": "stream",
     "text": [
      "Информация о типах данных:\n",
      "\n",
      "<class 'pandas.core.frame.DataFrame'>\n",
      "RangeIndex: 500 entries, 0 to 499\n",
      "Data columns (total 8 columns):\n",
      "user_id       500 non-null int64\n",
      "age           500 non-null int64\n",
      "churn_date    38 non-null object\n",
      "city          500 non-null object\n",
      "first_name    500 non-null object\n",
      "last_name     500 non-null object\n",
      "reg_date      500 non-null object\n",
      "tariff        500 non-null object\n",
      "dtypes: int64(2), object(6)\n",
      "memory usage: 31.4+ KB\n",
      "None \n",
      "\n",
      "Количество дубликатов: 0 \n",
      "\n",
      "Характерные значения:\n",
      "\n"
     ]
    },
    {
     "data": {
      "text/html": [
       "<div>\n",
       "<style scoped>\n",
       "    .dataframe tbody tr th:only-of-type {\n",
       "        vertical-align: middle;\n",
       "    }\n",
       "\n",
       "    .dataframe tbody tr th {\n",
       "        vertical-align: top;\n",
       "    }\n",
       "\n",
       "    .dataframe thead th {\n",
       "        text-align: right;\n",
       "    }\n",
       "</style>\n",
       "<table border=\"1\" class=\"dataframe\">\n",
       "  <thead>\n",
       "    <tr style=\"text-align: right;\">\n",
       "      <th></th>\n",
       "      <th>user_id</th>\n",
       "      <th>age</th>\n",
       "    </tr>\n",
       "  </thead>\n",
       "  <tbody>\n",
       "    <tr>\n",
       "      <td>count</td>\n",
       "      <td>500.000000</td>\n",
       "      <td>500.00000</td>\n",
       "    </tr>\n",
       "    <tr>\n",
       "      <td>mean</td>\n",
       "      <td>1249.500000</td>\n",
       "      <td>46.58800</td>\n",
       "    </tr>\n",
       "    <tr>\n",
       "      <td>std</td>\n",
       "      <td>144.481833</td>\n",
       "      <td>16.66763</td>\n",
       "    </tr>\n",
       "    <tr>\n",
       "      <td>min</td>\n",
       "      <td>1000.000000</td>\n",
       "      <td>18.00000</td>\n",
       "    </tr>\n",
       "    <tr>\n",
       "      <td>25%</td>\n",
       "      <td>1124.750000</td>\n",
       "      <td>32.00000</td>\n",
       "    </tr>\n",
       "    <tr>\n",
       "      <td>50%</td>\n",
       "      <td>1249.500000</td>\n",
       "      <td>46.00000</td>\n",
       "    </tr>\n",
       "    <tr>\n",
       "      <td>75%</td>\n",
       "      <td>1374.250000</td>\n",
       "      <td>62.00000</td>\n",
       "    </tr>\n",
       "    <tr>\n",
       "      <td>max</td>\n",
       "      <td>1499.000000</td>\n",
       "      <td>75.00000</td>\n",
       "    </tr>\n",
       "  </tbody>\n",
       "</table>\n",
       "</div>"
      ],
      "text/plain": [
       "           user_id        age\n",
       "count   500.000000  500.00000\n",
       "mean   1249.500000   46.58800\n",
       "std     144.481833   16.66763\n",
       "min    1000.000000   18.00000\n",
       "25%    1124.750000   32.00000\n",
       "50%    1249.500000   46.00000\n",
       "75%    1374.250000   62.00000\n",
       "max    1499.000000   75.00000"
      ]
     },
     "execution_count": 2,
     "metadata": {},
     "output_type": "execute_result"
    }
   ],
   "source": [
    "#Обзор таблицы, типов данных столбцов и характерных значений\n",
    "print('Случайные 10 строк таблицы:')\n",
    "display(users.sample(10))\n",
    "\n",
    "print('Информация о типах данных:\\n')\n",
    "print(users.info(),'\\n')\n",
    "\n",
    "print('Количество дубликатов:',users.duplicated().sum(),'\\n')\n",
    "\n",
    "print('Характерные значения:\\n')\n",
    "users.describe()"
   ]
  },
  {
   "cell_type": "markdown",
   "metadata": {},
   "source": [
    "**Вывод: данные выглядят адекватно. Пропуски churn_date обоснованы активным статусом тарифа на момент выгрузки данных. Приведем далее столбцы reg_date и churn_date к формату datetime**"
   ]
  },
  {
   "cell_type": "markdown",
   "metadata": {},
   "source": [
    "#### Обзор таблицы **internet**"
   ]
  },
  {
   "cell_type": "code",
   "execution_count": 3,
   "metadata": {},
   "outputs": [
    {
     "name": "stdout",
     "output_type": "stream",
     "text": [
      "Случайные 10 строк таблицы:\n"
     ]
    },
    {
     "data": {
      "text/html": [
       "<div>\n",
       "<style scoped>\n",
       "    .dataframe tbody tr th:only-of-type {\n",
       "        vertical-align: middle;\n",
       "    }\n",
       "\n",
       "    .dataframe tbody tr th {\n",
       "        vertical-align: top;\n",
       "    }\n",
       "\n",
       "    .dataframe thead th {\n",
       "        text-align: right;\n",
       "    }\n",
       "</style>\n",
       "<table border=\"1\" class=\"dataframe\">\n",
       "  <thead>\n",
       "    <tr style=\"text-align: right;\">\n",
       "      <th></th>\n",
       "      <th>Unnamed: 0</th>\n",
       "      <th>id</th>\n",
       "      <th>mb_used</th>\n",
       "      <th>session_date</th>\n",
       "      <th>user_id</th>\n",
       "    </tr>\n",
       "  </thead>\n",
       "  <tbody>\n",
       "    <tr>\n",
       "      <td>53197</td>\n",
       "      <td>53197</td>\n",
       "      <td>1179_59</td>\n",
       "      <td>1055.71</td>\n",
       "      <td>2018-05-24</td>\n",
       "      <td>1179</td>\n",
       "    </tr>\n",
       "    <tr>\n",
       "      <td>60598</td>\n",
       "      <td>60598</td>\n",
       "      <td>1204_683</td>\n",
       "      <td>485.91</td>\n",
       "      <td>2018-11-04</td>\n",
       "      <td>1204</td>\n",
       "    </tr>\n",
       "    <tr>\n",
       "      <td>124087</td>\n",
       "      <td>124087</td>\n",
       "      <td>1417_121</td>\n",
       "      <td>17.70</td>\n",
       "      <td>2018-08-01</td>\n",
       "      <td>1417</td>\n",
       "    </tr>\n",
       "    <tr>\n",
       "      <td>7530</td>\n",
       "      <td>7530</td>\n",
       "      <td>1025_422</td>\n",
       "      <td>0.00</td>\n",
       "      <td>2018-05-06</td>\n",
       "      <td>1025</td>\n",
       "    </tr>\n",
       "    <tr>\n",
       "      <td>141711</td>\n",
       "      <td>141711</td>\n",
       "      <td>1475_434</td>\n",
       "      <td>90.64</td>\n",
       "      <td>2018-04-28</td>\n",
       "      <td>1475</td>\n",
       "    </tr>\n",
       "    <tr>\n",
       "      <td>9529</td>\n",
       "      <td>9529</td>\n",
       "      <td>1032_609</td>\n",
       "      <td>76.79</td>\n",
       "      <td>2018-07-08</td>\n",
       "      <td>1032</td>\n",
       "    </tr>\n",
       "    <tr>\n",
       "      <td>62055</td>\n",
       "      <td>62055</td>\n",
       "      <td>1210_164</td>\n",
       "      <td>384.83</td>\n",
       "      <td>2018-11-18</td>\n",
       "      <td>1210</td>\n",
       "    </tr>\n",
       "    <tr>\n",
       "      <td>81992</td>\n",
       "      <td>81992</td>\n",
       "      <td>1277_210</td>\n",
       "      <td>511.16</td>\n",
       "      <td>2018-05-24</td>\n",
       "      <td>1277</td>\n",
       "    </tr>\n",
       "    <tr>\n",
       "      <td>100437</td>\n",
       "      <td>100437</td>\n",
       "      <td>1337_474</td>\n",
       "      <td>38.40</td>\n",
       "      <td>2018-11-19</td>\n",
       "      <td>1337</td>\n",
       "    </tr>\n",
       "    <tr>\n",
       "      <td>121621</td>\n",
       "      <td>121621</td>\n",
       "      <td>1410_95</td>\n",
       "      <td>291.39</td>\n",
       "      <td>2018-09-14</td>\n",
       "      <td>1410</td>\n",
       "    </tr>\n",
       "  </tbody>\n",
       "</table>\n",
       "</div>"
      ],
      "text/plain": [
       "        Unnamed: 0        id  mb_used session_date  user_id\n",
       "53197        53197   1179_59  1055.71   2018-05-24     1179\n",
       "60598        60598  1204_683   485.91   2018-11-04     1204\n",
       "124087      124087  1417_121    17.70   2018-08-01     1417\n",
       "7530          7530  1025_422     0.00   2018-05-06     1025\n",
       "141711      141711  1475_434    90.64   2018-04-28     1475\n",
       "9529          9529  1032_609    76.79   2018-07-08     1032\n",
       "62055        62055  1210_164   384.83   2018-11-18     1210\n",
       "81992        81992  1277_210   511.16   2018-05-24     1277\n",
       "100437      100437  1337_474    38.40   2018-11-19     1337\n",
       "121621      121621   1410_95   291.39   2018-09-14     1410"
      ]
     },
     "metadata": {},
     "output_type": "display_data"
    },
    {
     "name": "stdout",
     "output_type": "stream",
     "text": [
      "Информация о типах данных:\n",
      "\n",
      "<class 'pandas.core.frame.DataFrame'>\n",
      "RangeIndex: 149396 entries, 0 to 149395\n",
      "Data columns (total 5 columns):\n",
      "Unnamed: 0      149396 non-null int64\n",
      "id              149396 non-null object\n",
      "mb_used         149396 non-null float64\n",
      "session_date    149396 non-null object\n",
      "user_id         149396 non-null int64\n",
      "dtypes: float64(1), int64(2), object(2)\n",
      "memory usage: 5.7+ MB\n",
      "None \n",
      "\n",
      "Количество дубликатов: 0 \n",
      "\n",
      "Характерные значения:\n",
      "\n"
     ]
    },
    {
     "data": {
      "text/html": [
       "<div>\n",
       "<style scoped>\n",
       "    .dataframe tbody tr th:only-of-type {\n",
       "        vertical-align: middle;\n",
       "    }\n",
       "\n",
       "    .dataframe tbody tr th {\n",
       "        vertical-align: top;\n",
       "    }\n",
       "\n",
       "    .dataframe thead th {\n",
       "        text-align: right;\n",
       "    }\n",
       "</style>\n",
       "<table border=\"1\" class=\"dataframe\">\n",
       "  <thead>\n",
       "    <tr style=\"text-align: right;\">\n",
       "      <th></th>\n",
       "      <th>Unnamed: 0</th>\n",
       "      <th>mb_used</th>\n",
       "      <th>user_id</th>\n",
       "    </tr>\n",
       "  </thead>\n",
       "  <tbody>\n",
       "    <tr>\n",
       "      <td>count</td>\n",
       "      <td>149396.000000</td>\n",
       "      <td>149396.000000</td>\n",
       "      <td>149396.000000</td>\n",
       "    </tr>\n",
       "    <tr>\n",
       "      <td>mean</td>\n",
       "      <td>74697.500000</td>\n",
       "      <td>370.192426</td>\n",
       "      <td>1252.099842</td>\n",
       "    </tr>\n",
       "    <tr>\n",
       "      <td>std</td>\n",
       "      <td>43127.054745</td>\n",
       "      <td>278.300951</td>\n",
       "      <td>144.050823</td>\n",
       "    </tr>\n",
       "    <tr>\n",
       "      <td>min</td>\n",
       "      <td>0.000000</td>\n",
       "      <td>0.000000</td>\n",
       "      <td>1000.000000</td>\n",
       "    </tr>\n",
       "    <tr>\n",
       "      <td>25%</td>\n",
       "      <td>37348.750000</td>\n",
       "      <td>138.187500</td>\n",
       "      <td>1130.000000</td>\n",
       "    </tr>\n",
       "    <tr>\n",
       "      <td>50%</td>\n",
       "      <td>74697.500000</td>\n",
       "      <td>348.015000</td>\n",
       "      <td>1251.000000</td>\n",
       "    </tr>\n",
       "    <tr>\n",
       "      <td>75%</td>\n",
       "      <td>112046.250000</td>\n",
       "      <td>559.552500</td>\n",
       "      <td>1380.000000</td>\n",
       "    </tr>\n",
       "    <tr>\n",
       "      <td>max</td>\n",
       "      <td>149395.000000</td>\n",
       "      <td>1724.830000</td>\n",
       "      <td>1499.000000</td>\n",
       "    </tr>\n",
       "  </tbody>\n",
       "</table>\n",
       "</div>"
      ],
      "text/plain": [
       "          Unnamed: 0        mb_used        user_id\n",
       "count  149396.000000  149396.000000  149396.000000\n",
       "mean    74697.500000     370.192426    1252.099842\n",
       "std     43127.054745     278.300951     144.050823\n",
       "min         0.000000       0.000000    1000.000000\n",
       "25%     37348.750000     138.187500    1130.000000\n",
       "50%     74697.500000     348.015000    1251.000000\n",
       "75%    112046.250000     559.552500    1380.000000\n",
       "max    149395.000000    1724.830000    1499.000000"
      ]
     },
     "execution_count": 3,
     "metadata": {},
     "output_type": "execute_result"
    }
   ],
   "source": [
    "#Обзор таблицы, типов данных столбцов и характерных значений\n",
    "print('Случайные 10 строк таблицы:')\n",
    "display(internet.sample(10))\n",
    "\n",
    "print('Информация о типах данных:\\n')\n",
    "print(internet.info(),'\\n')\n",
    "\n",
    "print('Количество дубликатов:',internet.duplicated().sum(),'\\n')\n",
    "\n",
    "print('Характерные значения:\\n')\n",
    "internet.describe()"
   ]
  },
  {
   "cell_type": "markdown",
   "metadata": {},
   "source": [
    "**Вывод: данные выглядят адекватно, однако есть вопросы к значениям mb_used - присутствуют нулевые значения. Рассмотрим их подробнее в следующей главе. Подозрительный столбец Unnamed: 0 удаляем - данные в нем повторяют индексы, и в задачах проекта он не используется (скорее всего возник как артефакт выгрузки). Приведем далее столбец session_date к формату datetime, id тоже приведем к int**"
   ]
  },
  {
   "cell_type": "markdown",
   "metadata": {},
   "source": [
    "<div class=\"alert alert-success\">\n",
    "<font size=\"5\"><b>Комментарий ревьюера</b></font>\n",
    "\n",
    "Задав параметр index_col=0 метода read_csv, мы можем сделать данный столбец 'Unnamed: 0' индексом, коим он и является. \n",
    "\n",
    "</div>"
   ]
  },
  {
   "cell_type": "markdown",
   "metadata": {},
   "source": [
    "#### Обзор таблицы **messages**"
   ]
  },
  {
   "cell_type": "code",
   "execution_count": 4,
   "metadata": {},
   "outputs": [
    {
     "name": "stdout",
     "output_type": "stream",
     "text": [
      "Случайные 10 строк таблицы:\n"
     ]
    },
    {
     "data": {
      "text/html": [
       "<div>\n",
       "<style scoped>\n",
       "    .dataframe tbody tr th:only-of-type {\n",
       "        vertical-align: middle;\n",
       "    }\n",
       "\n",
       "    .dataframe tbody tr th {\n",
       "        vertical-align: top;\n",
       "    }\n",
       "\n",
       "    .dataframe thead th {\n",
       "        text-align: right;\n",
       "    }\n",
       "</style>\n",
       "<table border=\"1\" class=\"dataframe\">\n",
       "  <thead>\n",
       "    <tr style=\"text-align: right;\">\n",
       "      <th></th>\n",
       "      <th>id</th>\n",
       "      <th>message_date</th>\n",
       "      <th>user_id</th>\n",
       "    </tr>\n",
       "  </thead>\n",
       "  <tbody>\n",
       "    <tr>\n",
       "      <td>115309</td>\n",
       "      <td>1471_537</td>\n",
       "      <td>2018-06-29</td>\n",
       "      <td>1471</td>\n",
       "    </tr>\n",
       "    <tr>\n",
       "      <td>107636</td>\n",
       "      <td>1433_243</td>\n",
       "      <td>2018-03-19</td>\n",
       "      <td>1433</td>\n",
       "    </tr>\n",
       "    <tr>\n",
       "      <td>103098</td>\n",
       "      <td>1421_61</td>\n",
       "      <td>2018-03-19</td>\n",
       "      <td>1421</td>\n",
       "    </tr>\n",
       "    <tr>\n",
       "      <td>33078</td>\n",
       "      <td>1145_731</td>\n",
       "      <td>2018-09-11</td>\n",
       "      <td>1145</td>\n",
       "    </tr>\n",
       "    <tr>\n",
       "      <td>58926</td>\n",
       "      <td>1257_718</td>\n",
       "      <td>2018-08-20</td>\n",
       "      <td>1257</td>\n",
       "    </tr>\n",
       "    <tr>\n",
       "      <td>65710</td>\n",
       "      <td>1282_142</td>\n",
       "      <td>2018-08-19</td>\n",
       "      <td>1282</td>\n",
       "    </tr>\n",
       "    <tr>\n",
       "      <td>87312</td>\n",
       "      <td>1364_46</td>\n",
       "      <td>2018-09-23</td>\n",
       "      <td>1364</td>\n",
       "    </tr>\n",
       "    <tr>\n",
       "      <td>82409</td>\n",
       "      <td>1344_473</td>\n",
       "      <td>2018-06-17</td>\n",
       "      <td>1344</td>\n",
       "    </tr>\n",
       "    <tr>\n",
       "      <td>116216</td>\n",
       "      <td>1472_520</td>\n",
       "      <td>2018-12-22</td>\n",
       "      <td>1472</td>\n",
       "    </tr>\n",
       "    <tr>\n",
       "      <td>34762</td>\n",
       "      <td>1149_574</td>\n",
       "      <td>2018-08-25</td>\n",
       "      <td>1149</td>\n",
       "    </tr>\n",
       "  </tbody>\n",
       "</table>\n",
       "</div>"
      ],
      "text/plain": [
       "              id message_date  user_id\n",
       "115309  1471_537   2018-06-29     1471\n",
       "107636  1433_243   2018-03-19     1433\n",
       "103098   1421_61   2018-03-19     1421\n",
       "33078   1145_731   2018-09-11     1145\n",
       "58926   1257_718   2018-08-20     1257\n",
       "65710   1282_142   2018-08-19     1282\n",
       "87312    1364_46   2018-09-23     1364\n",
       "82409   1344_473   2018-06-17     1344\n",
       "116216  1472_520   2018-12-22     1472\n",
       "34762   1149_574   2018-08-25     1149"
      ]
     },
     "metadata": {},
     "output_type": "display_data"
    },
    {
     "name": "stdout",
     "output_type": "stream",
     "text": [
      "Информация о типах данных:\n",
      "\n",
      "<class 'pandas.core.frame.DataFrame'>\n",
      "RangeIndex: 123036 entries, 0 to 123035\n",
      "Data columns (total 3 columns):\n",
      "id              123036 non-null object\n",
      "message_date    123036 non-null object\n",
      "user_id         123036 non-null int64\n",
      "dtypes: int64(1), object(2)\n",
      "memory usage: 2.8+ MB\n",
      "None \n",
      "\n",
      "Количество дубликатов: 0 \n",
      "\n",
      "Характерные значения:\n",
      "\n"
     ]
    },
    {
     "data": {
      "text/html": [
       "<div>\n",
       "<style scoped>\n",
       "    .dataframe tbody tr th:only-of-type {\n",
       "        vertical-align: middle;\n",
       "    }\n",
       "\n",
       "    .dataframe tbody tr th {\n",
       "        vertical-align: top;\n",
       "    }\n",
       "\n",
       "    .dataframe thead th {\n",
       "        text-align: right;\n",
       "    }\n",
       "</style>\n",
       "<table border=\"1\" class=\"dataframe\">\n",
       "  <thead>\n",
       "    <tr style=\"text-align: right;\">\n",
       "      <th></th>\n",
       "      <th>user_id</th>\n",
       "    </tr>\n",
       "  </thead>\n",
       "  <tbody>\n",
       "    <tr>\n",
       "      <td>count</td>\n",
       "      <td>123036.000000</td>\n",
       "    </tr>\n",
       "    <tr>\n",
       "      <td>mean</td>\n",
       "      <td>1256.989410</td>\n",
       "    </tr>\n",
       "    <tr>\n",
       "      <td>std</td>\n",
       "      <td>143.523967</td>\n",
       "    </tr>\n",
       "    <tr>\n",
       "      <td>min</td>\n",
       "      <td>1000.000000</td>\n",
       "    </tr>\n",
       "    <tr>\n",
       "      <td>25%</td>\n",
       "      <td>1134.000000</td>\n",
       "    </tr>\n",
       "    <tr>\n",
       "      <td>50%</td>\n",
       "      <td>1271.000000</td>\n",
       "    </tr>\n",
       "    <tr>\n",
       "      <td>75%</td>\n",
       "      <td>1381.000000</td>\n",
       "    </tr>\n",
       "    <tr>\n",
       "      <td>max</td>\n",
       "      <td>1499.000000</td>\n",
       "    </tr>\n",
       "  </tbody>\n",
       "</table>\n",
       "</div>"
      ],
      "text/plain": [
       "             user_id\n",
       "count  123036.000000\n",
       "mean     1256.989410\n",
       "std       143.523967\n",
       "min      1000.000000\n",
       "25%      1134.000000\n",
       "50%      1271.000000\n",
       "75%      1381.000000\n",
       "max      1499.000000"
      ]
     },
     "execution_count": 4,
     "metadata": {},
     "output_type": "execute_result"
    }
   ],
   "source": [
    "#Обзор таблицы, типов данных столбцов и характерных значений\n",
    "print('Случайные 10 строк таблицы:')\n",
    "display(messages.sample(10))\n",
    "\n",
    "print('Информация о типах данных:\\n')\n",
    "print(messages.info(),'\\n')\n",
    "\n",
    "print('Количество дубликатов:',messages.duplicated().sum(),'\\n')\n",
    "\n",
    "print('Характерные значения:\\n')\n",
    "messages.describe()"
   ]
  },
  {
   "cell_type": "markdown",
   "metadata": {},
   "source": [
    "**Вывод: данные выглядят адекватно. Приведем далее столбец message_date к формату datetime, id для удобства приведем к типу int**"
   ]
  },
  {
   "cell_type": "markdown",
   "metadata": {},
   "source": [
    "<div class=\"alert alert-success\">\n",
    "<font size=\"5\"><b>Комментарий ревьюера</b></font>\n",
    "\n",
    "Столбцы с датой в каждом случае у нас имеют тип данных object. Исправить это уже при считывании данных тебе поможет [данная статья](https://towardsdatascience.com/4-tricks-you-should-know-to-parse-date-columns-with-pandas-read-csv-27355bb2ad0e) о исправлении типов данных столбцов с датой уже при считывании таблицы. \n",
    "\n",
    "</div>"
   ]
  },
  {
   "cell_type": "markdown",
   "metadata": {},
   "source": [
    "#### Обзор таблицы **tariffs**"
   ]
  },
  {
   "cell_type": "code",
   "execution_count": 5,
   "metadata": {},
   "outputs": [
    {
     "name": "stdout",
     "output_type": "stream",
     "text": [
      "Случайные 10 строк таблицы:\n"
     ]
    },
    {
     "data": {
      "text/html": [
       "<div>\n",
       "<style scoped>\n",
       "    .dataframe tbody tr th:only-of-type {\n",
       "        vertical-align: middle;\n",
       "    }\n",
       "\n",
       "    .dataframe tbody tr th {\n",
       "        vertical-align: top;\n",
       "    }\n",
       "\n",
       "    .dataframe thead th {\n",
       "        text-align: right;\n",
       "    }\n",
       "</style>\n",
       "<table border=\"1\" class=\"dataframe\">\n",
       "  <thead>\n",
       "    <tr style=\"text-align: right;\">\n",
       "      <th></th>\n",
       "      <th>messages_included</th>\n",
       "      <th>mb_per_month_included</th>\n",
       "      <th>minutes_included</th>\n",
       "      <th>rub_monthly_fee</th>\n",
       "      <th>rub_per_gb</th>\n",
       "      <th>rub_per_message</th>\n",
       "      <th>rub_per_minute</th>\n",
       "      <th>tariff_name</th>\n",
       "    </tr>\n",
       "  </thead>\n",
       "  <tbody>\n",
       "    <tr>\n",
       "      <td>0</td>\n",
       "      <td>50</td>\n",
       "      <td>15360</td>\n",
       "      <td>500</td>\n",
       "      <td>550</td>\n",
       "      <td>200</td>\n",
       "      <td>3</td>\n",
       "      <td>3</td>\n",
       "      <td>smart</td>\n",
       "    </tr>\n",
       "    <tr>\n",
       "      <td>1</td>\n",
       "      <td>1000</td>\n",
       "      <td>30720</td>\n",
       "      <td>3000</td>\n",
       "      <td>1950</td>\n",
       "      <td>150</td>\n",
       "      <td>1</td>\n",
       "      <td>1</td>\n",
       "      <td>ultra</td>\n",
       "    </tr>\n",
       "  </tbody>\n",
       "</table>\n",
       "</div>"
      ],
      "text/plain": [
       "   messages_included  mb_per_month_included  minutes_included  \\\n",
       "0                 50                  15360               500   \n",
       "1               1000                  30720              3000   \n",
       "\n",
       "   rub_monthly_fee  rub_per_gb  rub_per_message  rub_per_minute tariff_name  \n",
       "0              550         200                3               3       smart  \n",
       "1             1950         150                1               1       ultra  "
      ]
     },
     "metadata": {},
     "output_type": "display_data"
    },
    {
     "name": "stdout",
     "output_type": "stream",
     "text": [
      "Информация о типах данных:\n",
      "\n",
      "<class 'pandas.core.frame.DataFrame'>\n",
      "RangeIndex: 2 entries, 0 to 1\n",
      "Data columns (total 8 columns):\n",
      "messages_included        2 non-null int64\n",
      "mb_per_month_included    2 non-null int64\n",
      "minutes_included         2 non-null int64\n",
      "rub_monthly_fee          2 non-null int64\n",
      "rub_per_gb               2 non-null int64\n",
      "rub_per_message          2 non-null int64\n",
      "rub_per_minute           2 non-null int64\n",
      "tariff_name              2 non-null object\n",
      "dtypes: int64(7), object(1)\n",
      "memory usage: 256.0+ bytes\n",
      "None \n",
      "\n"
     ]
    }
   ],
   "source": [
    "#Обзор таблицы, типов данных столбцов и характерных значений\n",
    "print('Случайные 10 строк таблицы:')\n",
    "display(tariffs)\n",
    "\n",
    "print('Информация о типах данных:\\n')\n",
    "print(tariffs.info(),'\\n')\n"
   ]
  },
  {
   "cell_type": "markdown",
   "metadata": {},
   "source": [
    "**Вывод: все данные выглядят адекватно - ничего не меняем**"
   ]
  },
  {
   "cell_type": "markdown",
   "metadata": {},
   "source": [
    "#### Обзор таблицы **calls**"
   ]
  },
  {
   "cell_type": "code",
   "execution_count": 6,
   "metadata": {},
   "outputs": [
    {
     "name": "stdout",
     "output_type": "stream",
     "text": [
      "Случайные 10 строк таблицы:\n"
     ]
    },
    {
     "data": {
      "text/html": [
       "<div>\n",
       "<style scoped>\n",
       "    .dataframe tbody tr th:only-of-type {\n",
       "        vertical-align: middle;\n",
       "    }\n",
       "\n",
       "    .dataframe tbody tr th {\n",
       "        vertical-align: top;\n",
       "    }\n",
       "\n",
       "    .dataframe thead th {\n",
       "        text-align: right;\n",
       "    }\n",
       "</style>\n",
       "<table border=\"1\" class=\"dataframe\">\n",
       "  <thead>\n",
       "    <tr style=\"text-align: right;\">\n",
       "      <th></th>\n",
       "      <th>id</th>\n",
       "      <th>call_date</th>\n",
       "      <th>duration</th>\n",
       "      <th>user_id</th>\n",
       "    </tr>\n",
       "  </thead>\n",
       "  <tbody>\n",
       "    <tr>\n",
       "      <td>170279</td>\n",
       "      <td>1419_352</td>\n",
       "      <td>2018-11-18</td>\n",
       "      <td>19.61</td>\n",
       "      <td>1419</td>\n",
       "    </tr>\n",
       "    <tr>\n",
       "      <td>19088</td>\n",
       "      <td>1052_237</td>\n",
       "      <td>2018-10-14</td>\n",
       "      <td>13.20</td>\n",
       "      <td>1052</td>\n",
       "    </tr>\n",
       "    <tr>\n",
       "      <td>154800</td>\n",
       "      <td>1382_583</td>\n",
       "      <td>2018-08-17</td>\n",
       "      <td>9.72</td>\n",
       "      <td>1382</td>\n",
       "    </tr>\n",
       "    <tr>\n",
       "      <td>47573</td>\n",
       "      <td>1118_862</td>\n",
       "      <td>2018-04-01</td>\n",
       "      <td>9.32</td>\n",
       "      <td>1118</td>\n",
       "    </tr>\n",
       "    <tr>\n",
       "      <td>16671</td>\n",
       "      <td>1046_33</td>\n",
       "      <td>2018-11-11</td>\n",
       "      <td>3.40</td>\n",
       "      <td>1046</td>\n",
       "    </tr>\n",
       "    <tr>\n",
       "      <td>103593</td>\n",
       "      <td>1265_255</td>\n",
       "      <td>2018-09-17</td>\n",
       "      <td>2.32</td>\n",
       "      <td>1265</td>\n",
       "    </tr>\n",
       "    <tr>\n",
       "      <td>63018</td>\n",
       "      <td>1158_576</td>\n",
       "      <td>2018-07-07</td>\n",
       "      <td>11.17</td>\n",
       "      <td>1158</td>\n",
       "    </tr>\n",
       "    <tr>\n",
       "      <td>716</td>\n",
       "      <td>1003_9</td>\n",
       "      <td>2018-12-03</td>\n",
       "      <td>7.64</td>\n",
       "      <td>1003</td>\n",
       "    </tr>\n",
       "    <tr>\n",
       "      <td>53928</td>\n",
       "      <td>1135_221</td>\n",
       "      <td>2018-11-03</td>\n",
       "      <td>9.52</td>\n",
       "      <td>1135</td>\n",
       "    </tr>\n",
       "    <tr>\n",
       "      <td>194750</td>\n",
       "      <td>1477_498</td>\n",
       "      <td>2018-05-22</td>\n",
       "      <td>9.92</td>\n",
       "      <td>1477</td>\n",
       "    </tr>\n",
       "  </tbody>\n",
       "</table>\n",
       "</div>"
      ],
      "text/plain": [
       "              id   call_date  duration  user_id\n",
       "170279  1419_352  2018-11-18     19.61     1419\n",
       "19088   1052_237  2018-10-14     13.20     1052\n",
       "154800  1382_583  2018-08-17      9.72     1382\n",
       "47573   1118_862  2018-04-01      9.32     1118\n",
       "16671    1046_33  2018-11-11      3.40     1046\n",
       "103593  1265_255  2018-09-17      2.32     1265\n",
       "63018   1158_576  2018-07-07     11.17     1158\n",
       "716       1003_9  2018-12-03      7.64     1003\n",
       "53928   1135_221  2018-11-03      9.52     1135\n",
       "194750  1477_498  2018-05-22      9.92     1477"
      ]
     },
     "metadata": {},
     "output_type": "display_data"
    },
    {
     "name": "stdout",
     "output_type": "stream",
     "text": [
      "Информация о типах данных:\n",
      "\n",
      "<class 'pandas.core.frame.DataFrame'>\n",
      "RangeIndex: 202607 entries, 0 to 202606\n",
      "Data columns (total 4 columns):\n",
      "id           202607 non-null object\n",
      "call_date    202607 non-null object\n",
      "duration     202607 non-null float64\n",
      "user_id      202607 non-null int64\n",
      "dtypes: float64(1), int64(1), object(2)\n",
      "memory usage: 6.2+ MB\n",
      "None \n",
      "\n",
      "Количество дубликатов: 0 \n",
      "\n",
      "Характерные значения:\n",
      "\n"
     ]
    },
    {
     "data": {
      "text/html": [
       "<div>\n",
       "<style scoped>\n",
       "    .dataframe tbody tr th:only-of-type {\n",
       "        vertical-align: middle;\n",
       "    }\n",
       "\n",
       "    .dataframe tbody tr th {\n",
       "        vertical-align: top;\n",
       "    }\n",
       "\n",
       "    .dataframe thead th {\n",
       "        text-align: right;\n",
       "    }\n",
       "</style>\n",
       "<table border=\"1\" class=\"dataframe\">\n",
       "  <thead>\n",
       "    <tr style=\"text-align: right;\">\n",
       "      <th></th>\n",
       "      <th>duration</th>\n",
       "      <th>user_id</th>\n",
       "    </tr>\n",
       "  </thead>\n",
       "  <tbody>\n",
       "    <tr>\n",
       "      <td>count</td>\n",
       "      <td>202607.000000</td>\n",
       "      <td>202607.000000</td>\n",
       "    </tr>\n",
       "    <tr>\n",
       "      <td>mean</td>\n",
       "      <td>6.755887</td>\n",
       "      <td>1253.940619</td>\n",
       "    </tr>\n",
       "    <tr>\n",
       "      <td>std</td>\n",
       "      <td>5.843365</td>\n",
       "      <td>144.722751</td>\n",
       "    </tr>\n",
       "    <tr>\n",
       "      <td>min</td>\n",
       "      <td>0.000000</td>\n",
       "      <td>1000.000000</td>\n",
       "    </tr>\n",
       "    <tr>\n",
       "      <td>25%</td>\n",
       "      <td>1.300000</td>\n",
       "      <td>1126.000000</td>\n",
       "    </tr>\n",
       "    <tr>\n",
       "      <td>50%</td>\n",
       "      <td>6.000000</td>\n",
       "      <td>1260.000000</td>\n",
       "    </tr>\n",
       "    <tr>\n",
       "      <td>75%</td>\n",
       "      <td>10.700000</td>\n",
       "      <td>1379.000000</td>\n",
       "    </tr>\n",
       "    <tr>\n",
       "      <td>max</td>\n",
       "      <td>38.000000</td>\n",
       "      <td>1499.000000</td>\n",
       "    </tr>\n",
       "  </tbody>\n",
       "</table>\n",
       "</div>"
      ],
      "text/plain": [
       "            duration        user_id\n",
       "count  202607.000000  202607.000000\n",
       "mean        6.755887    1253.940619\n",
       "std         5.843365     144.722751\n",
       "min         0.000000    1000.000000\n",
       "25%         1.300000    1126.000000\n",
       "50%         6.000000    1260.000000\n",
       "75%        10.700000    1379.000000\n",
       "max        38.000000    1499.000000"
      ]
     },
     "execution_count": 6,
     "metadata": {},
     "output_type": "execute_result"
    }
   ],
   "source": [
    "#Обзор таблицы, типов данных столбцов и характерных значений\n",
    "print('Случайные 10 строк таблицы:')\n",
    "display(calls.sample(10))\n",
    "\n",
    "print('Информация о типах данных:\\n')\n",
    "print(calls.info(),'\\n')\n",
    "\n",
    "print('Количество дубликатов:',calls.duplicated().sum(),'\\n')\n",
    "\n",
    "print('Характерные значения:\\n')\n",
    "calls.describe()"
   ]
  },
  {
   "cell_type": "markdown",
   "metadata": {},
   "source": [
    "**Вывод: данные выглядят адекватно, однако есть вопросы к значениям duration - присутствуют нулевые значения. Рассмотрим детальнее их следующей главе. Так же приведем столбец call_date к формату datetime, а id и duration (после анализа) к типу int**"
   ]
  },
  {
   "cell_type": "markdown",
   "metadata": {},
   "source": [
    "<a id='section2.2'></a>\n",
    "### Выводы второго раздела\n",
    "\n",
    "Датасет выглядит достаточно консистентно: пропуски наблюдаются только в одном столбце (churn_date, таблица users), дубликаты не найдены, адекватные средние значения и квартили. Основной задачей обработки будет приведение данных к нужным типам и округление. Также есть отдельный вопрос к нулевым значениям данных столбцов duration и mb_used - их изучим детальнее.\n",
    "\n",
    "**Приведение к datetime:**\n",
    "- reg_date (users)\n",
    "- churn_date (users)\n",
    "- session_date (internet)\n",
    "- message_date (message)\n",
    "- call_date (calls)\n",
    "\n",
    "**Приведение к int:**\n",
    "- mb_used (internet)\n",
    "- id (internet)\n",
    "- id (messages)\n",
    "- id (calls)\n",
    "- duration (calls)\n",
    "\n",
    "**Округление в большую сторону**\n",
    "- duration (calls)\n",
    "- mb_used (internet)\n",
    "\n",
    "**Удаление столбцов**\n",
    "- Unnamed: 0 (internet)"
   ]
  },
  {
   "cell_type": "markdown",
   "metadata": {},
   "source": [
    "<div class=\"alert alert-success\">\n",
    "<font size=\"5\"><b>Комментарий ревьюера</b></font>\n",
    "\n",
    "Подумай также о возможных причинах появления ошибок в данных, а также о том, являются ли они случайными или нет.\n",
    "\n",
    "Первый взгляд на таблицы выполнен.\n",
    "\n",
    "</div>"
   ]
  },
  {
   "cell_type": "markdown",
   "metadata": {},
   "source": [
    "<a id='section3'></a>\n",
    "## Введение"
   ]
  },
  {
   "cell_type": "markdown",
   "metadata": {},
   "source": [
    "<a id='section3.1'></a>\n",
    "### Устранение ошибок в данных"
   ]
  },
  {
   "cell_type": "markdown",
   "metadata": {},
   "source": [
    "#### Анализ столбцов duration и mb_used"
   ]
  },
  {
   "cell_type": "code",
   "execution_count": 7,
   "metadata": {},
   "outputs": [
    {
     "data": {
      "image/png": "[encoded data removed]",
      "text/plain": [
       "<Figure size 1440x360 with 1 Axes>"
      ]
     },
     "metadata": {
      "needs_background": "light"
     },
     "output_type": "display_data"
    },
    {
     "data": {
      "image/png": "[encoded data removed]",
      "text/plain": [
       "<Figure size 1440x360 with 1 Axes>"
      ]
     },
     "metadata": {
      "needs_background": "light"
     },
     "output_type": "display_data"
    }
   ],
   "source": [
    "internet['mb_used'].hist(bins = 100, figsize=(20, 5));\n",
    "plt.title('Количество использованных Mb траффика')\n",
    "plt.xlabel('mb used')\n",
    "plt.ylabel('amount')\n",
    "plt.show()\n",
    "\n",
    "calls['duration'].hist(bins = 100, figsize=(20, 5));\n",
    "plt.title('Длительность звонков в минутах')\n",
    "plt.xlabel('call duration')\n",
    "plt.ylabel('amount')\n",
    "plt.show()"
   ]
  },
  {
   "cell_type": "markdown",
   "metadata": {},
   "source": [
    "**Вывод: наблюдается большое количество нулевых значений. Скорее всего они образовались при вычислении длительности сброшенных звонков и обрывах интернет-соединений. Так как полезной информации для проекта они не несут - удалим их. Остальные значения округлим вверх (следуя бизнес-правилам \"Мегалайн\")**"
   ]
  },
  {
   "cell_type": "markdown",
   "metadata": {},
   "source": [
    "<div class=\"alert alert-success\">\n",
    "<font size=\"5\"><b>Комментарий ревьюера</b></font>\n",
    "\n",
    "Исходя из описанной гипотезы звонки с нулевой длительностью и нулевой трафик обработаны правильным образом.\n",
    "\n",
    "</div>"
   ]
  },
  {
   "cell_type": "code",
   "execution_count": 8,
   "metadata": {},
   "outputs": [
    {
     "data": {
      "image/png": "[encoded data removed]",
      "text/plain": [
       "<Figure size 1440x360 with 1 Axes>"
      ]
     },
     "metadata": {
      "needs_background": "light"
     },
     "output_type": "display_data"
    },
    {
     "data": {
      "image/png": "[encoded data removed]",
      "text/plain": [
       "<Figure size 1440x360 with 1 Axes>"
      ]
     },
     "metadata": {
      "needs_background": "light"
     },
     "output_type": "display_data"
    }
   ],
   "source": [
    "# удаляем события с нулевыми значениями и производим округление\n",
    "internet['mb_used'] = internet['mb_used'].replace(0, np.nan)\n",
    "internet = internet.dropna().reset_index(drop=True)\n",
    "internet['mb_used'] = internet['mb_used'].apply(np.ceil)\n",
    "\n",
    "calls['duration'] = calls['duration'].replace(0, np.nan)\n",
    "calls = calls.dropna().reset_index(drop=True)\n",
    "calls['duration'] = calls['duration'].apply(np.ceil)\n",
    "\n",
    "\n",
    "# проверяем результат\n",
    "internet['mb_used'].hist(bins = 100, figsize=(20, 5));\n",
    "plt.title('Гистограмма распределения количества мегабайт трафика')\n",
    "plt.xlabel('Количество мегабайт трафика')\n",
    "plt.ylabel('Число сессий')\n",
    "plt.show()\n",
    "\n",
    "calls['duration'].hist(bins = 100, figsize=(20, 5));\n",
    "plt.title('Cтолбец duration таблицы calls')\n",
    "plt.xlabel('Длительность звонка')\n",
    "plt.ylabel('Число сессий')\n",
    "plt.show()"
   ]
  },
  {
   "cell_type": "markdown",
   "metadata": {},
   "source": [
    "<div class=\"alert alert-success\">\n",
    "<font size=\"5\"><b>Комментарий ревьюера</b></font>\n",
    "\n",
    "Верно, что округление производится до суммирования. Это согласуется с тем, как оператор фиксирует выручку.\n",
    "\n",
    "</div>"
   ]
  },
  {
   "cell_type": "markdown",
   "metadata": {},
   "source": [
    "#### Удаление столбца Unnamed: 0"
   ]
  },
  {
   "cell_type": "code",
   "execution_count": 9,
   "metadata": {},
   "outputs": [
    {
     "name": "stdout",
     "output_type": "stream",
     "text": [
      "<class 'pandas.core.frame.DataFrame'>\n",
      "RangeIndex: 129798 entries, 0 to 129797\n",
      "Data columns (total 4 columns):\n",
      "id              129798 non-null object\n",
      "mb_used         129798 non-null float64\n",
      "session_date    129798 non-null object\n",
      "user_id         129798 non-null int64\n",
      "dtypes: float64(1), int64(1), object(2)\n",
      "memory usage: 4.0+ MB\n"
     ]
    }
   ],
   "source": [
    "internet.drop('Unnamed: 0', axis=1, inplace=True)\n",
    "internet.info()"
   ]
  },
  {
   "cell_type": "markdown",
   "metadata": {},
   "source": [
    "### Приведение столбцов к типам int и datetime"
   ]
  },
  {
   "cell_type": "code",
   "execution_count": 10,
   "metadata": {},
   "outputs": [],
   "source": [
    "#привдение к int\n",
    "internet['mb_used'] = internet['mb_used'].astype(int)\n",
    "internet['id'] = internet['id'].astype(int)\n",
    "messages['id'] = messages['id'].astype(int)\n",
    "calls['id'] = calls['id'].astype(int)\n",
    "calls['duration'] = calls['duration'].astype(int)\n",
    "\n",
    "#привдение к datetime\n",
    "messages['message_date'] = pd.to_datetime(messages['message_date'], format=\"%Y-%m-%d\")\n",
    "calls['call_date'] = pd.to_datetime(calls['call_date'], format=\"%Y-%m-%d\")\n",
    "internet['session_date'] = pd.to_datetime(internet['session_date'], format=\"%Y-%m-%d\")\n",
    "users['churn_date'] = pd.to_datetime(users['churn_date'], format=\"%Y-%m-%d\")\n",
    "users['reg_date'] = pd.to_datetime(users['reg_date'], format=\"%Y-%m-%d\")\n"
   ]
  },
  {
   "cell_type": "markdown",
   "metadata": {},
   "source": [
    "**Проверяем обработанные столбцы**"
   ]
  },
  {
   "cell_type": "code",
   "execution_count": 11,
   "metadata": {},
   "outputs": [
    {
     "name": "stdout",
     "output_type": "stream",
     "text": [
      "<class 'pandas.core.frame.DataFrame'>\n",
      "RangeIndex: 129798 entries, 0 to 129797\n",
      "Data columns (total 4 columns):\n",
      "id              129798 non-null int64\n",
      "mb_used         129798 non-null int64\n",
      "session_date    129798 non-null datetime64[ns]\n",
      "user_id         129798 non-null int64\n",
      "dtypes: datetime64[ns](1), int64(3)\n",
      "memory usage: 4.0 MB\n",
      "\n",
      "<class 'pandas.core.frame.DataFrame'>\n",
      "RangeIndex: 500 entries, 0 to 499\n",
      "Data columns (total 8 columns):\n",
      "user_id       500 non-null int64\n",
      "age           500 non-null int64\n",
      "churn_date    38 non-null datetime64[ns]\n",
      "city          500 non-null object\n",
      "first_name    500 non-null object\n",
      "last_name     500 non-null object\n",
      "reg_date      500 non-null datetime64[ns]\n",
      "tariff        500 non-null object\n",
      "dtypes: datetime64[ns](2), int64(2), object(4)\n",
      "memory usage: 31.4+ KB\n",
      "\n",
      "<class 'pandas.core.frame.DataFrame'>\n",
      "RangeIndex: 162994 entries, 0 to 162993\n",
      "Data columns (total 4 columns):\n",
      "id           162994 non-null int64\n",
      "call_date    162994 non-null datetime64[ns]\n",
      "duration     162994 non-null int64\n",
      "user_id      162994 non-null int64\n",
      "dtypes: datetime64[ns](1), int64(3)\n",
      "memory usage: 5.0 MB\n",
      "\n",
      "<class 'pandas.core.frame.DataFrame'>\n",
      "RangeIndex: 123036 entries, 0 to 123035\n",
      "Data columns (total 3 columns):\n",
      "id              123036 non-null int64\n",
      "message_date    123036 non-null datetime64[ns]\n",
      "user_id         123036 non-null int64\n",
      "dtypes: datetime64[ns](1), int64(2)\n",
      "memory usage: 2.8 MB\n",
      "\n"
     ]
    }
   ],
   "source": [
    "internet.info()\n",
    "print('')\n",
    "users.info()\n",
    "print('')\n",
    "calls.info()\n",
    "print('')\n",
    "messages.info()\n",
    "print('')"
   ]
  },
  {
   "cell_type": "markdown",
   "metadata": {},
   "source": [
    "<a id='section3.3'></a>\n",
    "### Выводы третьего раздела\n",
    "\n",
    "Артефактов не обнаружено, короме ошибок чтения файла internet.csv. Данные обработаны и приведены в удобный для анализа вид."
   ]
  },
  {
   "cell_type": "markdown",
   "metadata": {},
   "source": [
    "<div class=\"alert alert-success\">\n",
    "<font size=\"5\"><b>Комментарий ревьюера</b></font>\n",
    "\n",
    "Ошибки в таблицах исправлены. Данные подготовлены к дальнейшему анализу. \n",
    "\n",
    "</div>"
   ]
  },
  {
   "cell_type": "markdown",
   "metadata": {},
   "source": [
    "<a id='section4'></a>\n",
    "## Расчет и добавление новых данных"
   ]
  },
  {
   "cell_type": "markdown",
   "metadata": {},
   "source": [
    "**Добавление столбцов с названиями месяцев**"
   ]
  },
  {
   "cell_type": "code",
   "execution_count": 12,
   "metadata": {},
   "outputs": [],
   "source": [
    "calls['month_name'] = calls['call_date'].dt.month_name()\n",
    "messages['month_name'] = messages['message_date'].dt.month_name()\n",
    "internet['month_name'] = internet['session_date'].dt.month_name()"
   ]
  },
  {
   "cell_type": "markdown",
   "metadata": {},
   "source": [
    "<a id='section4.1'></a>\n",
    "### Количество сделанных звонков и израсходованных минут разговора по месяцам\n"
   ]
  },
  {
   "cell_type": "code",
   "execution_count": 13,
   "metadata": {},
   "outputs": [
    {
     "data": {
      "text/html": [
       "<div>\n",
       "<style scoped>\n",
       "    .dataframe tbody tr th:only-of-type {\n",
       "        vertical-align: middle;\n",
       "    }\n",
       "\n",
       "    .dataframe tbody tr th {\n",
       "        vertical-align: top;\n",
       "    }\n",
       "\n",
       "    .dataframe thead th {\n",
       "        text-align: right;\n",
       "    }\n",
       "</style>\n",
       "<table border=\"1\" class=\"dataframe\">\n",
       "  <thead>\n",
       "    <tr style=\"text-align: right;\">\n",
       "      <th></th>\n",
       "      <th>user_id</th>\n",
       "      <th>month_name</th>\n",
       "      <th>month_calls_duration</th>\n",
       "      <th>month_calls_amount</th>\n",
       "    </tr>\n",
       "  </thead>\n",
       "  <tbody>\n",
       "    <tr>\n",
       "      <td>0</td>\n",
       "      <td>1000</td>\n",
       "      <td>August</td>\n",
       "      <td>408</td>\n",
       "      <td>42</td>\n",
       "    </tr>\n",
       "    <tr>\n",
       "      <td>1</td>\n",
       "      <td>1000</td>\n",
       "      <td>December</td>\n",
       "      <td>333</td>\n",
       "      <td>38</td>\n",
       "    </tr>\n",
       "    <tr>\n",
       "      <td>2</td>\n",
       "      <td>1000</td>\n",
       "      <td>July</td>\n",
       "      <td>340</td>\n",
       "      <td>41</td>\n",
       "    </tr>\n",
       "    <tr>\n",
       "      <td>3</td>\n",
       "      <td>1000</td>\n",
       "      <td>June</td>\n",
       "      <td>172</td>\n",
       "      <td>28</td>\n",
       "    </tr>\n",
       "    <tr>\n",
       "      <td>4</td>\n",
       "      <td>1000</td>\n",
       "      <td>May</td>\n",
       "      <td>159</td>\n",
       "      <td>17</td>\n",
       "    </tr>\n",
       "  </tbody>\n",
       "</table>\n",
       "</div>"
      ],
      "text/plain": [
       "   user_id month_name  month_calls_duration  month_calls_amount\n",
       "0     1000     August                   408                  42\n",
       "1     1000   December                   333                  38\n",
       "2     1000       July                   340                  41\n",
       "3     1000       June                   172                  28\n",
       "4     1000        May                   159                  17"
      ]
     },
     "execution_count": 13,
     "metadata": {},
     "output_type": "execute_result"
    }
   ],
   "source": [
    "calls_per_user = calls.groupby(['user_id', 'month_name']).agg({'duration':'sum', 'id':'count'}).reset_index()\n",
    "calls_per_user = calls_per_user.rename(columns={'duration':'month_calls_duration','id':'month_calls_amount'})\n",
    "calls_per_user.head()"
   ]
  },
  {
   "cell_type": "markdown",
   "metadata": {},
   "source": [
    "<a id='section4.2'></a>\n",
    "### Количество отправленных сообщений по месяцам"
   ]
  },
  {
   "cell_type": "code",
   "execution_count": 14,
   "metadata": {},
   "outputs": [
    {
     "data": {
      "text/html": [
       "<div>\n",
       "<style scoped>\n",
       "    .dataframe tbody tr th:only-of-type {\n",
       "        vertical-align: middle;\n",
       "    }\n",
       "\n",
       "    .dataframe tbody tr th {\n",
       "        vertical-align: top;\n",
       "    }\n",
       "\n",
       "    .dataframe thead th {\n",
       "        text-align: right;\n",
       "    }\n",
       "</style>\n",
       "<table border=\"1\" class=\"dataframe\">\n",
       "  <thead>\n",
       "    <tr style=\"text-align: right;\">\n",
       "      <th></th>\n",
       "      <th>user_id</th>\n",
       "      <th>month_name</th>\n",
       "      <th>month_messages_amount</th>\n",
       "    </tr>\n",
       "  </thead>\n",
       "  <tbody>\n",
       "    <tr>\n",
       "      <td>0</td>\n",
       "      <td>1000</td>\n",
       "      <td>August</td>\n",
       "      <td>81</td>\n",
       "    </tr>\n",
       "    <tr>\n",
       "      <td>1</td>\n",
       "      <td>1000</td>\n",
       "      <td>December</td>\n",
       "      <td>70</td>\n",
       "    </tr>\n",
       "    <tr>\n",
       "      <td>2</td>\n",
       "      <td>1000</td>\n",
       "      <td>July</td>\n",
       "      <td>75</td>\n",
       "    </tr>\n",
       "    <tr>\n",
       "      <td>3</td>\n",
       "      <td>1000</td>\n",
       "      <td>June</td>\n",
       "      <td>60</td>\n",
       "    </tr>\n",
       "    <tr>\n",
       "      <td>4</td>\n",
       "      <td>1000</td>\n",
       "      <td>May</td>\n",
       "      <td>22</td>\n",
       "    </tr>\n",
       "  </tbody>\n",
       "</table>\n",
       "</div>"
      ],
      "text/plain": [
       "   user_id month_name  month_messages_amount\n",
       "0     1000     August                     81\n",
       "1     1000   December                     70\n",
       "2     1000       July                     75\n",
       "3     1000       June                     60\n",
       "4     1000        May                     22"
      ]
     },
     "execution_count": 14,
     "metadata": {},
     "output_type": "execute_result"
    }
   ],
   "source": [
    "messages_per_user = messages.groupby(['user_id', 'month_name']).agg({'id':'count'}).reset_index()\n",
    "messages_per_user = messages_per_user.rename(columns={'id':'month_messages_amount'})\n",
    "messages_per_user.head()"
   ]
  },
  {
   "cell_type": "markdown",
   "metadata": {},
   "source": [
    "<a id='section4.3'></a>\n",
    "### Объем израсходованного интернет-трафика по месяцам"
   ]
  },
  {
   "cell_type": "code",
   "execution_count": 15,
   "metadata": {},
   "outputs": [
    {
     "data": {
      "text/html": [
       "<div>\n",
       "<style scoped>\n",
       "    .dataframe tbody tr th:only-of-type {\n",
       "        vertical-align: middle;\n",
       "    }\n",
       "\n",
       "    .dataframe tbody tr th {\n",
       "        vertical-align: top;\n",
       "    }\n",
       "\n",
       "    .dataframe thead th {\n",
       "        text-align: right;\n",
       "    }\n",
       "</style>\n",
       "<table border=\"1\" class=\"dataframe\">\n",
       "  <thead>\n",
       "    <tr style=\"text-align: right;\">\n",
       "      <th></th>\n",
       "      <th>user_id</th>\n",
       "      <th>month_name</th>\n",
       "      <th>month_mb_amount</th>\n",
       "    </tr>\n",
       "  </thead>\n",
       "  <tbody>\n",
       "    <tr>\n",
       "      <td>0</td>\n",
       "      <td>1000</td>\n",
       "      <td>August</td>\n",
       "      <td>14070</td>\n",
       "    </tr>\n",
       "    <tr>\n",
       "      <td>1</td>\n",
       "      <td>1000</td>\n",
       "      <td>December</td>\n",
       "      <td>9827</td>\n",
       "    </tr>\n",
       "    <tr>\n",
       "      <td>2</td>\n",
       "      <td>1000</td>\n",
       "      <td>July</td>\n",
       "      <td>14016</td>\n",
       "    </tr>\n",
       "    <tr>\n",
       "      <td>3</td>\n",
       "      <td>1000</td>\n",
       "      <td>June</td>\n",
       "      <td>23257</td>\n",
       "    </tr>\n",
       "    <tr>\n",
       "      <td>4</td>\n",
       "      <td>1000</td>\n",
       "      <td>May</td>\n",
       "      <td>2256</td>\n",
       "    </tr>\n",
       "  </tbody>\n",
       "</table>\n",
       "</div>"
      ],
      "text/plain": [
       "   user_id month_name  month_mb_amount\n",
       "0     1000     August            14070\n",
       "1     1000   December             9827\n",
       "2     1000       July            14016\n",
       "3     1000       June            23257\n",
       "4     1000        May             2256"
      ]
     },
     "execution_count": 15,
     "metadata": {},
     "output_type": "execute_result"
    }
   ],
   "source": [
    "internet_per_user = internet.groupby(['user_id', 'month_name']).agg({'mb_used':'sum'}).reset_index()\n",
    "internet_per_user = internet_per_user.rename(columns={'mb_used':'month_mb_amount'})\n",
    "internet_per_user.head()"
   ]
  },
  {
   "cell_type": "markdown",
   "metadata": {},
   "source": [
    "<div class=\"alert alert-success\">\n",
    "<font size=\"5\"><b>Комментарий ревьюера</b></font>\n",
    "\n",
    "Помесячные показатели рассчитаны. Данные подготовлены к дальнейшим расчетам. Месяц все же лучше хранить в числовом виде. Так работа с таблицей будет эффективнее. \n",
    "\n",
    "</div>"
   ]
  },
  {
   "cell_type": "markdown",
   "metadata": {},
   "source": [
    "<a id='section4.4'></a>\n",
    "### Расчет помесячной выручки с каждого пользователя"
   ]
  },
  {
   "cell_type": "markdown",
   "metadata": {},
   "source": [
    "#### Сбор информации об активностях абонентов за месяц"
   ]
  },
  {
   "cell_type": "code",
   "execution_count": 16,
   "metadata": {
    "scrolled": true
   },
   "outputs": [
    {
     "name": "stdout",
     "output_type": "stream",
     "text": [
      "Случайные 10 строк таблицы:\n"
     ]
    },
    {
     "data": {
      "text/html": [
       "<div>\n",
       "<style scoped>\n",
       "    .dataframe tbody tr th:only-of-type {\n",
       "        vertical-align: middle;\n",
       "    }\n",
       "\n",
       "    .dataframe tbody tr th {\n",
       "        vertical-align: top;\n",
       "    }\n",
       "\n",
       "    .dataframe thead th {\n",
       "        text-align: right;\n",
       "    }\n",
       "</style>\n",
       "<table border=\"1\" class=\"dataframe\">\n",
       "  <thead>\n",
       "    <tr style=\"text-align: right;\">\n",
       "      <th></th>\n",
       "      <th>user_id</th>\n",
       "      <th>month_name</th>\n",
       "      <th>month_calls_duration</th>\n",
       "      <th>month_calls_amount</th>\n",
       "      <th>month_messages_amount</th>\n",
       "      <th>month_mb_amount</th>\n",
       "      <th>age</th>\n",
       "      <th>churn_date</th>\n",
       "      <th>city</th>\n",
       "      <th>first_name</th>\n",
       "      <th>last_name</th>\n",
       "      <th>reg_date</th>\n",
       "      <th>messages_included</th>\n",
       "      <th>mb_per_month_included</th>\n",
       "      <th>minutes_included</th>\n",
       "      <th>rub_monthly_fee</th>\n",
       "      <th>rub_per_gb</th>\n",
       "      <th>rub_per_message</th>\n",
       "      <th>rub_per_minute</th>\n",
       "      <th>tariff_name</th>\n",
       "    </tr>\n",
       "  </thead>\n",
       "  <tbody>\n",
       "    <tr>\n",
       "      <td>2181</td>\n",
       "      <td>1351</td>\n",
       "      <td>December</td>\n",
       "      <td>905.0</td>\n",
       "      <td>98.0</td>\n",
       "      <td>15.0</td>\n",
       "      <td>10254.0</td>\n",
       "      <td>39</td>\n",
       "      <td>NaT</td>\n",
       "      <td>Казань</td>\n",
       "      <td>Анфиса</td>\n",
       "      <td>Вешнякова</td>\n",
       "      <td>2018-11-16</td>\n",
       "      <td>50</td>\n",
       "      <td>15360</td>\n",
       "      <td>500</td>\n",
       "      <td>550</td>\n",
       "      <td>200</td>\n",
       "      <td>3</td>\n",
       "      <td>3</td>\n",
       "      <td>smart</td>\n",
       "    </tr>\n",
       "    <tr>\n",
       "      <td>2841</td>\n",
       "      <td>1449</td>\n",
       "      <td>September</td>\n",
       "      <td>655.0</td>\n",
       "      <td>68.0</td>\n",
       "      <td>109.0</td>\n",
       "      <td>12632.0</td>\n",
       "      <td>55</td>\n",
       "      <td>NaT</td>\n",
       "      <td>Москва</td>\n",
       "      <td>Дана</td>\n",
       "      <td>Новикова</td>\n",
       "      <td>2018-07-16</td>\n",
       "      <td>50</td>\n",
       "      <td>15360</td>\n",
       "      <td>500</td>\n",
       "      <td>550</td>\n",
       "      <td>200</td>\n",
       "      <td>3</td>\n",
       "      <td>3</td>\n",
       "      <td>smart</td>\n",
       "    </tr>\n",
       "    <tr>\n",
       "      <td>3027</td>\n",
       "      <td>1476</td>\n",
       "      <td>June</td>\n",
       "      <td>491.0</td>\n",
       "      <td>55.0</td>\n",
       "      <td>4.0</td>\n",
       "      <td>14634.0</td>\n",
       "      <td>50</td>\n",
       "      <td>NaT</td>\n",
       "      <td>Москва</td>\n",
       "      <td>Валентина</td>\n",
       "      <td>Семенова</td>\n",
       "      <td>2018-04-30</td>\n",
       "      <td>1000</td>\n",
       "      <td>30720</td>\n",
       "      <td>3000</td>\n",
       "      <td>1950</td>\n",
       "      <td>150</td>\n",
       "      <td>1</td>\n",
       "      <td>1</td>\n",
       "      <td>ultra</td>\n",
       "    </tr>\n",
       "    <tr>\n",
       "      <td>3126</td>\n",
       "      <td>1492</td>\n",
       "      <td>August</td>\n",
       "      <td>603.0</td>\n",
       "      <td>65.0</td>\n",
       "      <td>15.0</td>\n",
       "      <td>20376.0</td>\n",
       "      <td>63</td>\n",
       "      <td>NaT</td>\n",
       "      <td>Санкт-Петербург</td>\n",
       "      <td>Руслана</td>\n",
       "      <td>Артёменко</td>\n",
       "      <td>2018-06-26</td>\n",
       "      <td>50</td>\n",
       "      <td>15360</td>\n",
       "      <td>500</td>\n",
       "      <td>550</td>\n",
       "      <td>200</td>\n",
       "      <td>3</td>\n",
       "      <td>3</td>\n",
       "      <td>smart</td>\n",
       "    </tr>\n",
       "    <tr>\n",
       "      <td>2870</td>\n",
       "      <td>1454</td>\n",
       "      <td>August</td>\n",
       "      <td>450.0</td>\n",
       "      <td>50.0</td>\n",
       "      <td>23.0</td>\n",
       "      <td>6046.0</td>\n",
       "      <td>29</td>\n",
       "      <td>NaT</td>\n",
       "      <td>Томск</td>\n",
       "      <td>Адам</td>\n",
       "      <td>Алешин</td>\n",
       "      <td>2018-03-08</td>\n",
       "      <td>50</td>\n",
       "      <td>15360</td>\n",
       "      <td>500</td>\n",
       "      <td>550</td>\n",
       "      <td>200</td>\n",
       "      <td>3</td>\n",
       "      <td>3</td>\n",
       "      <td>smart</td>\n",
       "    </tr>\n",
       "    <tr>\n",
       "      <td>803</td>\n",
       "      <td>1127</td>\n",
       "      <td>December</td>\n",
       "      <td>234.0</td>\n",
       "      <td>26.0</td>\n",
       "      <td>79.0</td>\n",
       "      <td>12987.0</td>\n",
       "      <td>26</td>\n",
       "      <td>NaT</td>\n",
       "      <td>Казань</td>\n",
       "      <td>Альберта</td>\n",
       "      <td>Ильина</td>\n",
       "      <td>2018-04-11</td>\n",
       "      <td>50</td>\n",
       "      <td>15360</td>\n",
       "      <td>500</td>\n",
       "      <td>550</td>\n",
       "      <td>200</td>\n",
       "      <td>3</td>\n",
       "      <td>3</td>\n",
       "      <td>smart</td>\n",
       "    </tr>\n",
       "    <tr>\n",
       "      <td>3004</td>\n",
       "      <td>1472</td>\n",
       "      <td>June</td>\n",
       "      <td>606.0</td>\n",
       "      <td>65.0</td>\n",
       "      <td>62.0</td>\n",
       "      <td>23891.0</td>\n",
       "      <td>53</td>\n",
       "      <td>NaT</td>\n",
       "      <td>Ярославль</td>\n",
       "      <td>Наида</td>\n",
       "      <td>Боброва</td>\n",
       "      <td>2018-01-18</td>\n",
       "      <td>50</td>\n",
       "      <td>15360</td>\n",
       "      <td>500</td>\n",
       "      <td>550</td>\n",
       "      <td>200</td>\n",
       "      <td>3</td>\n",
       "      <td>3</td>\n",
       "      <td>smart</td>\n",
       "    </tr>\n",
       "    <tr>\n",
       "      <td>248</td>\n",
       "      <td>1039</td>\n",
       "      <td>October</td>\n",
       "      <td>576.0</td>\n",
       "      <td>62.0</td>\n",
       "      <td>140.0</td>\n",
       "      <td>24437.0</td>\n",
       "      <td>40</td>\n",
       "      <td>NaT</td>\n",
       "      <td>Ярославль</td>\n",
       "      <td>Агнесса</td>\n",
       "      <td>Андреенко</td>\n",
       "      <td>2018-06-21</td>\n",
       "      <td>1000</td>\n",
       "      <td>30720</td>\n",
       "      <td>3000</td>\n",
       "      <td>1950</td>\n",
       "      <td>150</td>\n",
       "      <td>1</td>\n",
       "      <td>1</td>\n",
       "      <td>ultra</td>\n",
       "    </tr>\n",
       "    <tr>\n",
       "      <td>3092</td>\n",
       "      <td>1484</td>\n",
       "      <td>August</td>\n",
       "      <td>345.0</td>\n",
       "      <td>34.0</td>\n",
       "      <td>91.0</td>\n",
       "      <td>11315.0</td>\n",
       "      <td>55</td>\n",
       "      <td>NaT</td>\n",
       "      <td>Екатеринбург</td>\n",
       "      <td>Илзе</td>\n",
       "      <td>Абалдуева</td>\n",
       "      <td>2018-08-04</td>\n",
       "      <td>50</td>\n",
       "      <td>15360</td>\n",
       "      <td>500</td>\n",
       "      <td>550</td>\n",
       "      <td>200</td>\n",
       "      <td>3</td>\n",
       "      <td>3</td>\n",
       "      <td>smart</td>\n",
       "    </tr>\n",
       "    <tr>\n",
       "      <td>1788</td>\n",
       "      <td>1286</td>\n",
       "      <td>December</td>\n",
       "      <td>739.0</td>\n",
       "      <td>83.0</td>\n",
       "      <td>68.0</td>\n",
       "      <td>35151.0</td>\n",
       "      <td>19</td>\n",
       "      <td>NaT</td>\n",
       "      <td>Москва</td>\n",
       "      <td>Рашид</td>\n",
       "      <td>Троицкий</td>\n",
       "      <td>2018-11-27</td>\n",
       "      <td>50</td>\n",
       "      <td>15360</td>\n",
       "      <td>500</td>\n",
       "      <td>550</td>\n",
       "      <td>200</td>\n",
       "      <td>3</td>\n",
       "      <td>3</td>\n",
       "      <td>smart</td>\n",
       "    </tr>\n",
       "  </tbody>\n",
       "</table>\n",
       "</div>"
      ],
      "text/plain": [
       "      user_id month_name  month_calls_duration  month_calls_amount  \\\n",
       "2181     1351   December                 905.0                98.0   \n",
       "2841     1449  September                 655.0                68.0   \n",
       "3027     1476       June                 491.0                55.0   \n",
       "3126     1492     August                 603.0                65.0   \n",
       "2870     1454     August                 450.0                50.0   \n",
       "803      1127   December                 234.0                26.0   \n",
       "3004     1472       June                 606.0                65.0   \n",
       "248      1039    October                 576.0                62.0   \n",
       "3092     1484     August                 345.0                34.0   \n",
       "1788     1286   December                 739.0                83.0   \n",
       "\n",
       "      month_messages_amount  month_mb_amount  age churn_date             city  \\\n",
       "2181                   15.0          10254.0   39        NaT           Казань   \n",
       "2841                  109.0          12632.0   55        NaT           Москва   \n",
       "3027                    4.0          14634.0   50        NaT           Москва   \n",
       "3126                   15.0          20376.0   63        NaT  Санкт-Петербург   \n",
       "2870                   23.0           6046.0   29        NaT            Томск   \n",
       "803                    79.0          12987.0   26        NaT           Казань   \n",
       "3004                   62.0          23891.0   53        NaT        Ярославль   \n",
       "248                   140.0          24437.0   40        NaT        Ярославль   \n",
       "3092                   91.0          11315.0   55        NaT     Екатеринбург   \n",
       "1788                   68.0          35151.0   19        NaT           Москва   \n",
       "\n",
       "     first_name  last_name   reg_date  messages_included  \\\n",
       "2181     Анфиса  Вешнякова 2018-11-16                 50   \n",
       "2841       Дана   Новикова 2018-07-16                 50   \n",
       "3027  Валентина   Семенова 2018-04-30               1000   \n",
       "3126    Руслана  Артёменко 2018-06-26                 50   \n",
       "2870       Адам     Алешин 2018-03-08                 50   \n",
       "803    Альберта     Ильина 2018-04-11                 50   \n",
       "3004      Наида    Боброва 2018-01-18                 50   \n",
       "248     Агнесса  Андреенко 2018-06-21               1000   \n",
       "3092       Илзе  Абалдуева 2018-08-04                 50   \n",
       "1788      Рашид   Троицкий 2018-11-27                 50   \n",
       "\n",
       "      mb_per_month_included  minutes_included  rub_monthly_fee  rub_per_gb  \\\n",
       "2181                  15360               500              550         200   \n",
       "2841                  15360               500              550         200   \n",
       "3027                  30720              3000             1950         150   \n",
       "3126                  15360               500              550         200   \n",
       "2870                  15360               500              550         200   \n",
       "803                   15360               500              550         200   \n",
       "3004                  15360               500              550         200   \n",
       "248                   30720              3000             1950         150   \n",
       "3092                  15360               500              550         200   \n",
       "1788                  15360               500              550         200   \n",
       "\n",
       "      rub_per_message  rub_per_minute tariff_name  \n",
       "2181                3               3       smart  \n",
       "2841                3               3       smart  \n",
       "3027                1               1       ultra  \n",
       "3126                3               3       smart  \n",
       "2870                3               3       smart  \n",
       "803                 3               3       smart  \n",
       "3004                3               3       smart  \n",
       "248                 1               1       ultra  \n",
       "3092                3               3       smart  \n",
       "1788                3               3       smart  "
      ]
     },
     "metadata": {},
     "output_type": "display_data"
    },
    {
     "name": "stdout",
     "output_type": "stream",
     "text": [
      "Информация о типах данных:\n",
      "\n",
      "<class 'pandas.core.frame.DataFrame'>\n",
      "Int64Index: 3214 entries, 0 to 3213\n",
      "Data columns (total 20 columns):\n",
      "user_id                  3214 non-null int64\n",
      "month_name               3214 non-null object\n",
      "month_calls_duration     3168 non-null float64\n",
      "month_calls_amount       3168 non-null float64\n",
      "month_messages_amount    2717 non-null float64\n",
      "month_mb_amount          3201 non-null float64\n",
      "age                      3214 non-null int64\n",
      "churn_date               187 non-null datetime64[ns]\n",
      "city                     3214 non-null object\n",
      "first_name               3214 non-null object\n",
      "last_name                3214 non-null object\n",
      "reg_date                 3214 non-null datetime64[ns]\n",
      "messages_included        3214 non-null int64\n",
      "mb_per_month_included    3214 non-null int64\n",
      "minutes_included         3214 non-null int64\n",
      "rub_monthly_fee          3214 non-null int64\n",
      "rub_per_gb               3214 non-null int64\n",
      "rub_per_message          3214 non-null int64\n",
      "rub_per_minute           3214 non-null int64\n",
      "tariff_name              3214 non-null object\n",
      "dtypes: datetime64[ns](2), float64(4), int64(9), object(5)\n",
      "memory usage: 527.3+ KB\n",
      "None \n",
      "\n",
      "Количество дубликатов: 0 \n",
      "\n",
      "Характерные значения:\n",
      "\n"
     ]
    },
    {
     "data": {
      "text/html": [
       "<div>\n",
       "<style scoped>\n",
       "    .dataframe tbody tr th:only-of-type {\n",
       "        vertical-align: middle;\n",
       "    }\n",
       "\n",
       "    .dataframe tbody tr th {\n",
       "        vertical-align: top;\n",
       "    }\n",
       "\n",
       "    .dataframe thead th {\n",
       "        text-align: right;\n",
       "    }\n",
       "</style>\n",
       "<table border=\"1\" class=\"dataframe\">\n",
       "  <thead>\n",
       "    <tr style=\"text-align: right;\">\n",
       "      <th></th>\n",
       "      <th>user_id</th>\n",
       "      <th>month_calls_duration</th>\n",
       "      <th>month_calls_amount</th>\n",
       "      <th>month_messages_amount</th>\n",
       "      <th>month_mb_amount</th>\n",
       "      <th>age</th>\n",
       "      <th>messages_included</th>\n",
       "      <th>mb_per_month_included</th>\n",
       "      <th>minutes_included</th>\n",
       "      <th>rub_monthly_fee</th>\n",
       "      <th>rub_per_gb</th>\n",
       "      <th>rub_per_message</th>\n",
       "      <th>rub_per_minute</th>\n",
       "    </tr>\n",
       "  </thead>\n",
       "  <tbody>\n",
       "    <tr>\n",
       "      <td>count</td>\n",
       "      <td>3214.000000</td>\n",
       "      <td>3168.000000</td>\n",
       "      <td>3168.000000</td>\n",
       "      <td>2717.000000</td>\n",
       "      <td>3201.000000</td>\n",
       "      <td>3214.000000</td>\n",
       "      <td>3214.000000</td>\n",
       "      <td>3214.000000</td>\n",
       "      <td>3214.000000</td>\n",
       "      <td>3214.000000</td>\n",
       "      <td>3214.000000</td>\n",
       "      <td>3214.000000</td>\n",
       "      <td>3214.000000</td>\n",
       "    </tr>\n",
       "    <tr>\n",
       "      <td>mean</td>\n",
       "      <td>1251.590230</td>\n",
       "      <td>457.797033</td>\n",
       "      <td>51.450126</td>\n",
       "      <td>45.283769</td>\n",
       "      <td>17297.550453</td>\n",
       "      <td>46.641568</td>\n",
       "      <td>341.148102</td>\n",
       "      <td>20067.405103</td>\n",
       "      <td>1266.179216</td>\n",
       "      <td>979.060361</td>\n",
       "      <td>184.676416</td>\n",
       "      <td>2.387057</td>\n",
       "      <td>2.387057</td>\n",
       "    </tr>\n",
       "    <tr>\n",
       "      <td>std</td>\n",
       "      <td>144.659172</td>\n",
       "      <td>237.423514</td>\n",
       "      <td>26.439188</td>\n",
       "      <td>35.051363</td>\n",
       "      <td>7513.504652</td>\n",
       "      <td>16.586109</td>\n",
       "      <td>438.044726</td>\n",
       "      <td>7082.491569</td>\n",
       "      <td>1152.749279</td>\n",
       "      <td>645.539596</td>\n",
       "      <td>23.054986</td>\n",
       "      <td>0.922199</td>\n",
       "      <td>0.922199</td>\n",
       "    </tr>\n",
       "    <tr>\n",
       "      <td>min</td>\n",
       "      <td>1000.000000</td>\n",
       "      <td>1.000000</td>\n",
       "      <td>1.000000</td>\n",
       "      <td>1.000000</td>\n",
       "      <td>202.000000</td>\n",
       "      <td>18.000000</td>\n",
       "      <td>50.000000</td>\n",
       "      <td>15360.000000</td>\n",
       "      <td>500.000000</td>\n",
       "      <td>550.000000</td>\n",
       "      <td>150.000000</td>\n",
       "      <td>1.000000</td>\n",
       "      <td>1.000000</td>\n",
       "    </tr>\n",
       "    <tr>\n",
       "      <td>25%</td>\n",
       "      <td>1125.000000</td>\n",
       "      <td>290.750000</td>\n",
       "      <td>33.000000</td>\n",
       "      <td>19.000000</td>\n",
       "      <td>12567.000000</td>\n",
       "      <td>32.000000</td>\n",
       "      <td>50.000000</td>\n",
       "      <td>15360.000000</td>\n",
       "      <td>500.000000</td>\n",
       "      <td>550.000000</td>\n",
       "      <td>150.000000</td>\n",
       "      <td>1.000000</td>\n",
       "      <td>1.000000</td>\n",
       "    </tr>\n",
       "    <tr>\n",
       "      <td>50%</td>\n",
       "      <td>1253.000000</td>\n",
       "      <td>447.500000</td>\n",
       "      <td>50.000000</td>\n",
       "      <td>38.000000</td>\n",
       "      <td>16986.000000</td>\n",
       "      <td>46.000000</td>\n",
       "      <td>50.000000</td>\n",
       "      <td>15360.000000</td>\n",
       "      <td>500.000000</td>\n",
       "      <td>550.000000</td>\n",
       "      <td>200.000000</td>\n",
       "      <td>3.000000</td>\n",
       "      <td>3.000000</td>\n",
       "    </tr>\n",
       "    <tr>\n",
       "      <td>75%</td>\n",
       "      <td>1378.750000</td>\n",
       "      <td>592.250000</td>\n",
       "      <td>67.000000</td>\n",
       "      <td>63.000000</td>\n",
       "      <td>21458.000000</td>\n",
       "      <td>62.000000</td>\n",
       "      <td>1000.000000</td>\n",
       "      <td>30720.000000</td>\n",
       "      <td>3000.000000</td>\n",
       "      <td>1950.000000</td>\n",
       "      <td>200.000000</td>\n",
       "      <td>3.000000</td>\n",
       "      <td>3.000000</td>\n",
       "    </tr>\n",
       "    <tr>\n",
       "      <td>max</td>\n",
       "      <td>1499.000000</td>\n",
       "      <td>1673.000000</td>\n",
       "      <td>190.000000</td>\n",
       "      <td>224.000000</td>\n",
       "      <td>49789.000000</td>\n",
       "      <td>75.000000</td>\n",
       "      <td>1000.000000</td>\n",
       "      <td>30720.000000</td>\n",
       "      <td>3000.000000</td>\n",
       "      <td>1950.000000</td>\n",
       "      <td>200.000000</td>\n",
       "      <td>3.000000</td>\n",
       "      <td>3.000000</td>\n",
       "    </tr>\n",
       "  </tbody>\n",
       "</table>\n",
       "</div>"
      ],
      "text/plain": [
       "           user_id  month_calls_duration  month_calls_amount  \\\n",
       "count  3214.000000           3168.000000         3168.000000   \n",
       "mean   1251.590230            457.797033           51.450126   \n",
       "std     144.659172            237.423514           26.439188   \n",
       "min    1000.000000              1.000000            1.000000   \n",
       "25%    1125.000000            290.750000           33.000000   \n",
       "50%    1253.000000            447.500000           50.000000   \n",
       "75%    1378.750000            592.250000           67.000000   \n",
       "max    1499.000000           1673.000000          190.000000   \n",
       "\n",
       "       month_messages_amount  month_mb_amount          age  messages_included  \\\n",
       "count            2717.000000      3201.000000  3214.000000        3214.000000   \n",
       "mean               45.283769     17297.550453    46.641568         341.148102   \n",
       "std                35.051363      7513.504652    16.586109         438.044726   \n",
       "min                 1.000000       202.000000    18.000000          50.000000   \n",
       "25%                19.000000     12567.000000    32.000000          50.000000   \n",
       "50%                38.000000     16986.000000    46.000000          50.000000   \n",
       "75%                63.000000     21458.000000    62.000000        1000.000000   \n",
       "max               224.000000     49789.000000    75.000000        1000.000000   \n",
       "\n",
       "       mb_per_month_included  minutes_included  rub_monthly_fee   rub_per_gb  \\\n",
       "count            3214.000000       3214.000000      3214.000000  3214.000000   \n",
       "mean            20067.405103       1266.179216       979.060361   184.676416   \n",
       "std              7082.491569       1152.749279       645.539596    23.054986   \n",
       "min             15360.000000        500.000000       550.000000   150.000000   \n",
       "25%             15360.000000        500.000000       550.000000   150.000000   \n",
       "50%             15360.000000        500.000000       550.000000   200.000000   \n",
       "75%             30720.000000       3000.000000      1950.000000   200.000000   \n",
       "max             30720.000000       3000.000000      1950.000000   200.000000   \n",
       "\n",
       "       rub_per_message  rub_per_minute  \n",
       "count      3214.000000     3214.000000  \n",
       "mean          2.387057        2.387057  \n",
       "std           0.922199        0.922199  \n",
       "min           1.000000        1.000000  \n",
       "25%           1.000000        1.000000  \n",
       "50%           3.000000        3.000000  \n",
       "75%           3.000000        3.000000  \n",
       "max           3.000000        3.000000  "
      ]
     },
     "execution_count": 16,
     "metadata": {},
     "output_type": "execute_result"
    }
   ],
   "source": [
    "#объединяем таблицы calls_per_user, internet_per_user, messages_per_user\n",
    "total_per_user = calls_per_user.merge(messages_per_user, on=['user_id', 'month_name'], how = 'outer')\n",
    "total_per_user = total_per_user.merge(internet_per_user, on=['user_id','month_name'], how = 'outer')\n",
    "total_per_user = total_per_user.merge(users, on=['user_id'], how = 'left')\n",
    "total_per_user = total_per_user.merge(tariffs, left_on = 'tariff', right_on = 'tariff_name', how='left')\n",
    "total_per_user = total_per_user.drop(columns = 'tariff')\n",
    "\n",
    "#проверка результата\n",
    "print('Случайные 10 строк таблицы:')\n",
    "display(total_per_user.sample(10))\n",
    "\n",
    "print('Информация о типах данных:\\n')\n",
    "print(total_per_user.info(),'\\n')\n",
    "\n",
    "print('Количество дубликатов:',total_per_user.duplicated().sum(),'\\n')\n",
    "\n",
    "print('Характерные значения:\\n')\n",
    "total_per_user.describe()"
   ]
  },
  {
   "cell_type": "markdown",
   "metadata": {},
   "source": [
    "<div class=\"alert alert-success\">\n",
    "<font size=\"5\"><b>Комментарий ревьюера</b></font>\n",
    "\n",
    "Да, именно внешнее соединение нам и нужно в данном случае. Иначе в таблицу не попадут клиенты, которые не пользовались одним из видов услуг оператора в течение конкретного месяца. \n",
    "\n",
    "</div>"
   ]
  },
  {
   "cell_type": "markdown",
   "metadata": {},
   "source": [
    "**Вывод: после слияния таблиц видно, что присутствуют пропуски. Скорее всего это показывает наличие абонентов, которые выборочно пользуются услугами оператора - звонками, сообщениями или интернетом. Заполним такие пропуски нулевыми значениями и приведем к int**"
   ]
  },
  {
   "cell_type": "markdown",
   "metadata": {},
   "source": [
    "<div class=\"alert alert-success\">\n",
    "<font size=\"5\"><b>Комментарий ревьюера</b></font>\n",
    "\n",
    "Соглашусь, не все пользователи используют полный спектр услуг оператора. \n",
    "\n",
    "</div>"
   ]
  },
  {
   "cell_type": "code",
   "execution_count": 17,
   "metadata": {},
   "outputs": [
    {
     "name": "stdout",
     "output_type": "stream",
     "text": [
      "<class 'pandas.core.frame.DataFrame'>\n",
      "Int64Index: 3214 entries, 0 to 3213\n",
      "Data columns (total 20 columns):\n",
      "user_id                  3214 non-null int64\n",
      "month_name               3214 non-null object\n",
      "month_calls_duration     3214 non-null int64\n",
      "month_calls_amount       3214 non-null int64\n",
      "month_messages_amount    3214 non-null int64\n",
      "month_mb_amount          3214 non-null int64\n",
      "age                      3214 non-null int64\n",
      "churn_date               187 non-null datetime64[ns]\n",
      "city                     3214 non-null object\n",
      "first_name               3214 non-null object\n",
      "last_name                3214 non-null object\n",
      "reg_date                 3214 non-null datetime64[ns]\n",
      "messages_included        3214 non-null int64\n",
      "mb_per_month_included    3214 non-null int64\n",
      "minutes_included         3214 non-null int64\n",
      "rub_monthly_fee          3214 non-null int64\n",
      "rub_per_gb               3214 non-null int64\n",
      "rub_per_message          3214 non-null int64\n",
      "rub_per_minute           3214 non-null int64\n",
      "tariff_name              3214 non-null object\n",
      "dtypes: datetime64[ns](2), int64(13), object(5)\n",
      "memory usage: 527.3+ KB\n"
     ]
    }
   ],
   "source": [
    "# запонение пропусков и приведение к типу int\n",
    "total_per_user['month_calls_duration'] = total_per_user['month_calls_duration'].fillna(0).astype(int)\n",
    "total_per_user['month_calls_amount'] = total_per_user['month_calls_amount'].fillna(0).astype(int)\n",
    "total_per_user['month_messages_amount'] = total_per_user['month_messages_amount'].fillna(0).astype(int)\n",
    "total_per_user['month_mb_amount'] = total_per_user['month_mb_amount'].fillna(0).astype(int)\n",
    "\n",
    "total_per_user.info()"
   ]
  },
  {
   "cell_type": "markdown",
   "metadata": {},
   "source": [
    "#### Вычисление выручки по абонентам за месяц"
   ]
  },
  {
   "cell_type": "code",
   "execution_count": 18,
   "metadata": {},
   "outputs": [
    {
     "data": {
      "text/html": [
       "<div>\n",
       "<style scoped>\n",
       "    .dataframe tbody tr th:only-of-type {\n",
       "        vertical-align: middle;\n",
       "    }\n",
       "\n",
       "    .dataframe tbody tr th {\n",
       "        vertical-align: top;\n",
       "    }\n",
       "\n",
       "    .dataframe thead th {\n",
       "        text-align: right;\n",
       "    }\n",
       "</style>\n",
       "<table border=\"1\" class=\"dataframe\">\n",
       "  <thead>\n",
       "    <tr style=\"text-align: right;\">\n",
       "      <th></th>\n",
       "      <th>user_id</th>\n",
       "      <th>month_name</th>\n",
       "      <th>month_calls_duration</th>\n",
       "      <th>month_calls_amount</th>\n",
       "      <th>month_messages_amount</th>\n",
       "      <th>month_mb_amount</th>\n",
       "      <th>age</th>\n",
       "      <th>churn_date</th>\n",
       "      <th>city</th>\n",
       "      <th>reg_date</th>\n",
       "      <th>tariff_name</th>\n",
       "      <th>profit</th>\n",
       "      <th>calls_extra</th>\n",
       "      <th>messages_extra</th>\n",
       "      <th>internet_extra</th>\n",
       "    </tr>\n",
       "  </thead>\n",
       "  <tbody>\n",
       "    <tr>\n",
       "      <td>759</td>\n",
       "      <td>1120</td>\n",
       "      <td>October</td>\n",
       "      <td>371</td>\n",
       "      <td>42</td>\n",
       "      <td>0</td>\n",
       "      <td>6095</td>\n",
       "      <td>25</td>\n",
       "      <td>NaT</td>\n",
       "      <td>Краснодар</td>\n",
       "      <td>2018-01-24</td>\n",
       "      <td>ultra</td>\n",
       "      <td>1950</td>\n",
       "      <td>0</td>\n",
       "      <td>0</td>\n",
       "      <td>0</td>\n",
       "    </tr>\n",
       "    <tr>\n",
       "      <td>1846</td>\n",
       "      <td>1295</td>\n",
       "      <td>December</td>\n",
       "      <td>297</td>\n",
       "      <td>35</td>\n",
       "      <td>115</td>\n",
       "      <td>16570</td>\n",
       "      <td>19</td>\n",
       "      <td>NaT</td>\n",
       "      <td>Краснодар</td>\n",
       "      <td>2018-09-19</td>\n",
       "      <td>smart</td>\n",
       "      <td>1145</td>\n",
       "      <td>0</td>\n",
       "      <td>65</td>\n",
       "      <td>2</td>\n",
       "    </tr>\n",
       "    <tr>\n",
       "      <td>1116</td>\n",
       "      <td>1177</td>\n",
       "      <td>December</td>\n",
       "      <td>570</td>\n",
       "      <td>63</td>\n",
       "      <td>0</td>\n",
       "      <td>19656</td>\n",
       "      <td>75</td>\n",
       "      <td>NaT</td>\n",
       "      <td>Новосибирск</td>\n",
       "      <td>2018-06-19</td>\n",
       "      <td>smart</td>\n",
       "      <td>1760</td>\n",
       "      <td>70</td>\n",
       "      <td>0</td>\n",
       "      <td>5</td>\n",
       "    </tr>\n",
       "    <tr>\n",
       "      <td>586</td>\n",
       "      <td>1094</td>\n",
       "      <td>July</td>\n",
       "      <td>784</td>\n",
       "      <td>93</td>\n",
       "      <td>21</td>\n",
       "      <td>19000</td>\n",
       "      <td>37</td>\n",
       "      <td>NaT</td>\n",
       "      <td>Новосибирск</td>\n",
       "      <td>2018-05-28</td>\n",
       "      <td>ultra</td>\n",
       "      <td>1950</td>\n",
       "      <td>0</td>\n",
       "      <td>0</td>\n",
       "      <td>0</td>\n",
       "    </tr>\n",
       "    <tr>\n",
       "      <td>1929</td>\n",
       "      <td>1308</td>\n",
       "      <td>October</td>\n",
       "      <td>243</td>\n",
       "      <td>26</td>\n",
       "      <td>35</td>\n",
       "      <td>13479</td>\n",
       "      <td>52</td>\n",
       "      <td>NaT</td>\n",
       "      <td>Москва</td>\n",
       "      <td>2018-01-04</td>\n",
       "      <td>smart</td>\n",
       "      <td>550</td>\n",
       "      <td>0</td>\n",
       "      <td>0</td>\n",
       "      <td>0</td>\n",
       "    </tr>\n",
       "    <tr>\n",
       "      <td>3041</td>\n",
       "      <td>1478</td>\n",
       "      <td>August</td>\n",
       "      <td>305</td>\n",
       "      <td>34</td>\n",
       "      <td>75</td>\n",
       "      <td>13144</td>\n",
       "      <td>75</td>\n",
       "      <td>NaT</td>\n",
       "      <td>Грозный</td>\n",
       "      <td>2018-07-16</td>\n",
       "      <td>smart</td>\n",
       "      <td>625</td>\n",
       "      <td>0</td>\n",
       "      <td>25</td>\n",
       "      <td>0</td>\n",
       "    </tr>\n",
       "    <tr>\n",
       "      <td>384</td>\n",
       "      <td>1061</td>\n",
       "      <td>August</td>\n",
       "      <td>639</td>\n",
       "      <td>77</td>\n",
       "      <td>12</td>\n",
       "      <td>21983</td>\n",
       "      <td>41</td>\n",
       "      <td>NaT</td>\n",
       "      <td>Санкт-Петербург</td>\n",
       "      <td>2018-07-15</td>\n",
       "      <td>smart</td>\n",
       "      <td>2367</td>\n",
       "      <td>139</td>\n",
       "      <td>0</td>\n",
       "      <td>7</td>\n",
       "    </tr>\n",
       "    <tr>\n",
       "      <td>361</td>\n",
       "      <td>1057</td>\n",
       "      <td>August</td>\n",
       "      <td>726</td>\n",
       "      <td>73</td>\n",
       "      <td>19</td>\n",
       "      <td>14501</td>\n",
       "      <td>43</td>\n",
       "      <td>NaT</td>\n",
       "      <td>Москва</td>\n",
       "      <td>2018-03-12</td>\n",
       "      <td>ultra</td>\n",
       "      <td>1950</td>\n",
       "      <td>0</td>\n",
       "      <td>0</td>\n",
       "      <td>0</td>\n",
       "    </tr>\n",
       "    <tr>\n",
       "      <td>16</td>\n",
       "      <td>1002</td>\n",
       "      <td>September</td>\n",
       "      <td>206</td>\n",
       "      <td>25</td>\n",
       "      <td>4</td>\n",
       "      <td>16712</td>\n",
       "      <td>59</td>\n",
       "      <td>NaT</td>\n",
       "      <td>Стерлитамак</td>\n",
       "      <td>2018-06-17</td>\n",
       "      <td>smart</td>\n",
       "      <td>950</td>\n",
       "      <td>0</td>\n",
       "      <td>0</td>\n",
       "      <td>2</td>\n",
       "    </tr>\n",
       "    <tr>\n",
       "      <td>1064</td>\n",
       "      <td>1171</td>\n",
       "      <td>May</td>\n",
       "      <td>572</td>\n",
       "      <td>72</td>\n",
       "      <td>70</td>\n",
       "      <td>13861</td>\n",
       "      <td>47</td>\n",
       "      <td>NaT</td>\n",
       "      <td>Москва</td>\n",
       "      <td>2018-03-20</td>\n",
       "      <td>smart</td>\n",
       "      <td>826</td>\n",
       "      <td>72</td>\n",
       "      <td>20</td>\n",
       "      <td>0</td>\n",
       "    </tr>\n",
       "  </tbody>\n",
       "</table>\n",
       "</div>"
      ],
      "text/plain": [
       "      user_id month_name  month_calls_duration  month_calls_amount  \\\n",
       "759      1120    October                   371                  42   \n",
       "1846     1295   December                   297                  35   \n",
       "1116     1177   December                   570                  63   \n",
       "586      1094       July                   784                  93   \n",
       "1929     1308    October                   243                  26   \n",
       "3041     1478     August                   305                  34   \n",
       "384      1061     August                   639                  77   \n",
       "361      1057     August                   726                  73   \n",
       "16       1002  September                   206                  25   \n",
       "1064     1171        May                   572                  72   \n",
       "\n",
       "      month_messages_amount  month_mb_amount  age churn_date             city  \\\n",
       "759                       0             6095   25        NaT        Краснодар   \n",
       "1846                    115            16570   19        NaT        Краснодар   \n",
       "1116                      0            19656   75        NaT      Новосибирск   \n",
       "586                      21            19000   37        NaT      Новосибирск   \n",
       "1929                     35            13479   52        NaT           Москва   \n",
       "3041                     75            13144   75        NaT          Грозный   \n",
       "384                      12            21983   41        NaT  Санкт-Петербург   \n",
       "361                      19            14501   43        NaT           Москва   \n",
       "16                        4            16712   59        NaT      Стерлитамак   \n",
       "1064                     70            13861   47        NaT           Москва   \n",
       "\n",
       "       reg_date tariff_name  profit  calls_extra  messages_extra  \\\n",
       "759  2018-01-24       ultra    1950            0               0   \n",
       "1846 2018-09-19       smart    1145            0              65   \n",
       "1116 2018-06-19       smart    1760           70               0   \n",
       "586  2018-05-28       ultra    1950            0               0   \n",
       "1929 2018-01-04       smart     550            0               0   \n",
       "3041 2018-07-16       smart     625            0              25   \n",
       "384  2018-07-15       smart    2367          139               0   \n",
       "361  2018-03-12       ultra    1950            0               0   \n",
       "16   2018-06-17       smart     950            0               0   \n",
       "1064 2018-03-20       smart     826           72              20   \n",
       "\n",
       "      internet_extra  \n",
       "759                0  \n",
       "1846               2  \n",
       "1116               5  \n",
       "586                0  \n",
       "1929               0  \n",
       "3041               0  \n",
       "384                7  \n",
       "361                0  \n",
       "16                 2  \n",
       "1064               0  "
      ]
     },
     "execution_count": 18,
     "metadata": {},
     "output_type": "execute_result"
    }
   ],
   "source": [
    "#заполнение абонентской платы\n",
    "total_per_user['profit'] = total_per_user['rub_monthly_fee']\n",
    "\n",
    "#вычисление перерасходов лимитов\n",
    "total_per_user['calls_extra'] = total_per_user['month_calls_duration'] - total_per_user['minutes_included']\n",
    "total_per_user['messages_extra'] = total_per_user['month_messages_amount'] - total_per_user['messages_included']\n",
    "total_per_user['internet_extra'] = total_per_user['month_mb_amount'] - total_per_user['mb_per_month_included']\n",
    "total_per_user['internet_extra'] = (total_per_user['internet_extra']/1024).apply(np.ceil).astype(int)\n",
    "\n",
    "#удаление отрицательных результатов\n",
    "total_per_user['internet_extra'] = np.where(total_per_user['internet_extra']<0, 0, total_per_user['internet_extra']) \n",
    "total_per_user['messages_extra'] = np.where(total_per_user['messages_extra']<0, 0, total_per_user['messages_extra']) \n",
    "total_per_user['calls_extra'] = np.where(total_per_user['calls_extra']<0, 0, total_per_user['calls_extra']) \n",
    "\n",
    "#суммирование плат за услуги\n",
    "total_per_user['profit'] += np.where(total_per_user['calls_extra'] > 0, total_per_user['calls_extra']*total_per_user['rub_per_minute'],0)\n",
    "total_per_user['profit'] += np.where(total_per_user['messages_extra'] > 0, total_per_user['messages_extra']*total_per_user['rub_per_message'],0)\n",
    "total_per_user['profit'] += np.where(total_per_user['internet_extra'] > 0, total_per_user['internet_extra']*total_per_user['rub_per_gb'],0)\n",
    "total_per_user['profit'] = total_per_user['profit'].astype(int)\n",
    "\n",
    "\n",
    "#удаление ненужных столбцов\n",
    "total_per_user.drop(columns = ['first_name','last_name','messages_included',\n",
    "                               'mb_per_month_included','minutes_included','rub_monthly_fee','rub_per_gb',\n",
    "                              'rub_per_message', 'rub_per_message', 'rub_per_minute'], inplace = True)\n",
    "\n",
    "total_per_user.sample(10)"
   ]
  },
  {
   "cell_type": "markdown",
   "metadata": {},
   "source": [
    "<div class=\"alert alert-danger\">\n",
    "<font size=\"5\"><b>Комментарий ревьюера</b></font>\n",
    "\n",
    "Перерасход по интернету клиент оплачивает полными пакетами трафика, т.е. покупает 1 Гб, 2 Гб и т.д. Т.е. после приведения трафика к Гб его стоит округлить вверх. \n",
    "\n",
    "</div>"
   ]
  },
  {
   "cell_type": "markdown",
   "metadata": {},
   "source": [
    "<div class=\"alert alert-block alert-info\">\n",
    "    \n",
    "**Добрботка студента**\n",
    "    \n",
    "Исправлен расчет перерасхода трафика. Убраны отрицательные значения, удалены ненужные столбцы</div>"
   ]
  },
  {
   "cell_type": "markdown",
   "metadata": {},
   "source": [
    "<div class=\"alert alert-success\">\n",
    "<font size=\"5\"><b>Комментарий ревьюера 2</b></font>\n",
    "\n",
    "Да, неточность исправлена. Теперь выручка должна автоматически стать целочисленным показателем. Т.е. при смене типа данных ты отбросишь только нули после точки. \n",
    "\n",
    "</div>"
   ]
  },
  {
   "cell_type": "markdown",
   "metadata": {},
   "source": [
    "<a id='section4.5'></a>\n",
    "### Выводы четвертого раздела\n",
    "\n",
    "Для каждого абонента было рассчитано:\n",
    "\n",
    "- количество сделанных звонков и израсходованных минут разговора по месяцам;\n",
    "\n",
    "- количество отправленных сообщений по месяцам;\n",
    "\n",
    "- объем израсходованного интернет-трафика по месяцам;\n",
    "\n",
    "- помесячная выручка с каждого пользователя.\n",
    "\n",
    "Результаты добавлены в общую таблицу total_per_user, которая будет использоваться в дальнейшем анализе. "
   ]
  },
  {
   "cell_type": "markdown",
   "metadata": {},
   "source": [
    "<div class=\"alert alert-warning\">\n",
    "<font size=\"5\"><b>Комментарий ревьюера</b></font>\n",
    "\n",
    "Финальная таблица получена верным образом. Стоит убрать из нее излишнюю информацию в виде имени или фамилии клиента. Такая информация никак не поможет нам в анализе, поэтому хранить ее повторно не стоит. Информация о тарифах у нас уже есть в таблице tariffs. Дублировать ее не стоит. Также выручку стоит сделать целочисленным показателем, а отрицательные значения в таблице хорошо бы заменить на 0.\n",
    "\n",
    "</div>"
   ]
  },
  {
   "cell_type": "markdown",
   "metadata": {},
   "source": [
    "<a id='section5'></a>\n",
    "## Описание поведения клиентов"
   ]
  },
  {
   "cell_type": "markdown",
   "metadata": {},
   "source": [
    "<a id='section5.1'></a>\n",
    "### Расчет среднего значения, дисперсии и стандартного отклонения использованных минут, сообщений и траффика по каждому тарифу"
   ]
  },
  {
   "cell_type": "code",
   "execution_count": 19,
   "metadata": {},
   "outputs": [
    {
     "data": {
      "text/html": [
       "<div>\n",
       "<style scoped>\n",
       "    .dataframe tbody tr th:only-of-type {\n",
       "        vertical-align: middle;\n",
       "    }\n",
       "\n",
       "    .dataframe tbody tr th {\n",
       "        vertical-align: top;\n",
       "    }\n",
       "\n",
       "    .dataframe thead tr th {\n",
       "        text-align: left;\n",
       "    }\n",
       "\n",
       "    .dataframe thead tr:last-of-type th {\n",
       "        text-align: right;\n",
       "    }\n",
       "</style>\n",
       "<table border=\"1\" class=\"dataframe\">\n",
       "  <thead>\n",
       "    <tr>\n",
       "      <th></th>\n",
       "      <th colspan=\"3\" halign=\"left\">month_calls_duration</th>\n",
       "      <th colspan=\"3\" halign=\"left\">month_messages_amount</th>\n",
       "      <th colspan=\"3\" halign=\"left\">month_mb_amount</th>\n",
       "    </tr>\n",
       "    <tr>\n",
       "      <th></th>\n",
       "      <th>mean</th>\n",
       "      <th>std</th>\n",
       "      <th>var</th>\n",
       "      <th>mean</th>\n",
       "      <th>std</th>\n",
       "      <th>var</th>\n",
       "      <th>mean</th>\n",
       "      <th>std</th>\n",
       "      <th>var</th>\n",
       "    </tr>\n",
       "    <tr>\n",
       "      <th>tariff_name</th>\n",
       "      <th></th>\n",
       "      <th></th>\n",
       "      <th></th>\n",
       "      <th></th>\n",
       "      <th></th>\n",
       "      <th></th>\n",
       "      <th></th>\n",
       "      <th></th>\n",
       "      <th></th>\n",
       "    </tr>\n",
       "  </thead>\n",
       "  <tbody>\n",
       "    <tr>\n",
       "      <td>smart</td>\n",
       "      <td>417.934948</td>\n",
       "      <td>190.313730</td>\n",
       "      <td>36219.315784</td>\n",
       "      <td>33.384029</td>\n",
       "      <td>28.227876</td>\n",
       "      <td>796.812958</td>\n",
       "      <td>16229.188425</td>\n",
       "      <td>5877.576978</td>\n",
       "      <td>3.454591e+07</td>\n",
       "    </tr>\n",
       "    <tr>\n",
       "      <td>ultra</td>\n",
       "      <td>526.623350</td>\n",
       "      <td>317.606098</td>\n",
       "      <td>100873.633397</td>\n",
       "      <td>49.363452</td>\n",
       "      <td>47.804457</td>\n",
       "      <td>2285.266143</td>\n",
       "      <td>19486.901523</td>\n",
       "      <td>10096.317202</td>\n",
       "      <td>1.019356e+08</td>\n",
       "    </tr>\n",
       "  </tbody>\n",
       "</table>\n",
       "</div>"
      ],
      "text/plain": [
       "            month_calls_duration                             \\\n",
       "                            mean         std            var   \n",
       "tariff_name                                                   \n",
       "smart                 417.934948  190.313730   36219.315784   \n",
       "ultra                 526.623350  317.606098  100873.633397   \n",
       "\n",
       "            month_messages_amount                         month_mb_amount  \\\n",
       "                             mean        std          var            mean   \n",
       "tariff_name                                                                 \n",
       "smart                   33.384029  28.227876   796.812958    16229.188425   \n",
       "ultra                   49.363452  47.804457  2285.266143    19486.901523   \n",
       "\n",
       "                                         \n",
       "                      std           var  \n",
       "tariff_name                              \n",
       "smart         5877.576978  3.454591e+07  \n",
       "ultra        10096.317202  1.019356e+08  "
      ]
     },
     "execution_count": 19,
     "metadata": {},
     "output_type": "execute_result"
    }
   ],
   "source": [
    "total_per_user.groupby(by = 'tariff_name')[('month_calls_duration','month_messages_amount','month_mb_amount')].agg(['mean','std','var'])"
   ]
  },
  {
   "cell_type": "markdown",
   "metadata": {},
   "source": [
    "**Вывод: в среднем, пользователи тарифа ultra больше звонят и отправляют больше сообщений, чем пользователи тарифа smart. расходование трафика приблизительно одинаково (с небольшим перевесом для пользователей тарифа ultra)**"
   ]
  },
  {
   "cell_type": "markdown",
   "metadata": {},
   "source": [
    "<div class=\"alert alert-success\">\n",
    "<font size=\"5\"><b>Комментарий ревьюера</b></font>\n",
    "\n",
    "Круто, что все стат. показатели ты собрал в единую таблицу. Так нам заметно проще сравнивать тарифы между собой. \n",
    "\n",
    "</div>"
   ]
  },
  {
   "cell_type": "markdown",
   "metadata": {},
   "source": [
    "<a id='section5.2'></a>\n",
    "### Анализ использованных минут по каждому тарифу за месяц"
   ]
  },
  {
   "cell_type": "markdown",
   "metadata": {},
   "source": [
    "#### Анализ распределения длительности звонков"
   ]
  },
  {
   "cell_type": "code",
   "execution_count": 20,
   "metadata": {
    "scrolled": true
   },
   "outputs": [
    {
     "data": {
      "image/png": "[encoded data removed]",
      "text/plain": [
       "<Figure size 1440x360 with 1 Axes>"
      ]
     },
     "metadata": {
      "needs_background": "light"
     },
     "output_type": "display_data"
    }
   ],
   "source": [
    "#очистка столбца от значений вне указанные перцентилей\n",
    "def filter_data(data, column_name, low, high):\n",
    "    try:\n",
    "        q_min = data[column_name].quantile(low)\n",
    "        q_max = data[column_name].quantile(high)\n",
    "        filtered_column = (data[column_name] >= q_min) & (data[column_name] <= q_max)\n",
    "        return data[filtered_column]\n",
    "    except:\n",
    "        print('Ошибка фильтрации данных')\n",
    "\n",
    "        \n",
    "        \n",
    "#отфильтрованные значения\n",
    "tariff_calls = filter_data(total_per_user, 'month_calls_duration', 0.02, 0.99)\n",
    "\n",
    "#построение гистограммы распределения\n",
    "tariff_calls.groupby(by = 'tariff_name')['month_calls_duration'].hist(bins = 50, figsize=(20, 5), alpha = 0.7);\n",
    "plt.xlabel('Длительность звонков')\n",
    "plt.ylabel('Количество абонентов')\n",
    "plt.title('Гистограмма распределения длительности звонков для тарифов smart и ultra')\n",
    "plt.legend(['smart','ultra'])\n",
    "plt.show()"
   ]
  },
  {
   "cell_type": "markdown",
   "metadata": {},
   "source": [
    "**Вывод: визуально распределения похожи на нормальные, наблюдается правосторонняя асимметрия**"
   ]
  },
  {
   "cell_type": "markdown",
   "metadata": {},
   "source": [
    "#### Анализ превышения лимитов звонков тарифов"
   ]
  },
  {
   "cell_type": "code",
   "execution_count": 21,
   "metadata": {
    "scrolled": true
   },
   "outputs": [
    {
     "data": {
      "image/png": "[encoded data removed]",
      "text/plain": [
       "<Figure size 1440x360 with 2 Axes>"
      ]
     },
     "metadata": {},
     "output_type": "display_data"
    }
   ],
   "source": [
    "#расчет превышений\n",
    "smart_calls_above = (total_per_user.loc[total_per_user['tariff_name']=='smart', 'month_calls_duration'] > 500).mean() * 100\n",
    "ultra_calls_above = (total_per_user.loc[total_per_user['tariff_name']=='ultra', 'month_calls_duration'] > 3000).mean() * 100\n",
    "\n",
    "\n",
    "smart_calls_labels = [smart_calls_above, 100 - smart_calls_above]\n",
    "ultra_calls_labels = [ultra_calls_above, 100 - ultra_calls_above]\n",
    "\n",
    "#построение диаграмм\n",
    "fig, (ax1,ax2) = plt.subplots(1,2,figsize=(20,5));\n",
    "\n",
    "ax1.pie(smart_calls_labels, autopct='%1.0f%%');\n",
    "ax1.set_title('Превышение лимита звонков тарифа smart')\n",
    "ax1.legend(['превысили лимит','не превысили лимит']);\n",
    "\n",
    "ax2.pie(ultra_calls_labels, autopct='%1.0f%%');\n",
    "ax2.set_title('Превышение лимита звонков тарифа ultra')\n",
    "ax2.legend(['превысили лимит','не превысили лимит']); "
   ]
  },
  {
   "cell_type": "markdown",
   "metadata": {},
   "source": [
    "**Вывод: пользователи тарифа smart превышают лимит звонков тарифа в 34% случаев, пользователи ultra не превышают лимит вообще**"
   ]
  },
  {
   "cell_type": "markdown",
   "metadata": {},
   "source": [
    "<a id='section5.3'></a>\n",
    "### Анализ использованных сообщений по каждому тарифу за месяц"
   ]
  },
  {
   "cell_type": "markdown",
   "metadata": {},
   "source": [
    "#### Анализ распределения количества отправленных сообщений"
   ]
  },
  {
   "cell_type": "code",
   "execution_count": 22,
   "metadata": {
    "scrolled": true
   },
   "outputs": [
    {
     "data": {
      "image/png": "[encoded data removed]",
      "text/plain": [
       "<Figure size 1440x360 with 1 Axes>"
      ]
     },
     "metadata": {
      "needs_background": "light"
     },
     "output_type": "display_data"
    }
   ],
   "source": [
    "#отфильтрованные значения\n",
    "tariff_messages = filter_data(total_per_user, 'month_messages_amount', 0.2, 0.99)\n",
    "\n",
    "#построение гистограммы распределения\n",
    "tariff_messages.groupby(by = 'tariff_name')['month_messages_amount'].hist(bins = 50, figsize=(20, 5), alpha = 0.7);\n",
    "plt.xlabel('Количество сообщений')\n",
    "plt.ylabel('Количество абонентов')\n",
    "plt.title('Гистограмма распределения количества отправленных сообщений для тарифов smart и ultra')\n",
    "plt.legend(['smart','ultra'])\n",
    "plt.show()"
   ]
  },
  {
   "cell_type": "markdown",
   "metadata": {},
   "source": [
    "**Вывод: у обоих распределений наблюдается положительная асимметрия**"
   ]
  },
  {
   "cell_type": "markdown",
   "metadata": {},
   "source": [
    "#### Анализ превышения лимитов сообщений тарифов"
   ]
  },
  {
   "cell_type": "code",
   "execution_count": 23,
   "metadata": {
    "scrolled": true
   },
   "outputs": [
    {
     "data": {
      "image/png": "[encoded data removed]",
      "text/plain": [
       "<Figure size 1440x360 with 2 Axes>"
      ]
     },
     "metadata": {},
     "output_type": "display_data"
    }
   ],
   "source": [
    "#расчет превышений\n",
    "smart_messages_above = (total_per_user.loc[total_per_user['tariff_name']=='smart', 'month_messages_amount'] > 50).mean() * 100\n",
    "ultra_messages_above = (total_per_user.loc[total_per_user['tariff_name']=='ultra', 'month_messages_amount'] > 1000).mean() * 100\n",
    "\n",
    "\n",
    "smart_messages_labels = [smart_messages_above, 100 - smart_messages_above]\n",
    "ultra_messages_labels = [ultra_messages_above, 100 - ultra_messages_above]\n",
    "\n",
    "#построение диаграмм\n",
    "fig, (ax1,ax2) = plt.subplots(1,2,figsize=(20,5));\n",
    "\n",
    "ax1.pie(smart_messages_labels, autopct='%1.0f%%');\n",
    "ax1.set_title('Превышение лимита сообщений тарифа smart')\n",
    "ax1.legend(['превысили лимит','не превысили лимит']);\n",
    "\n",
    "ax2.pie(ultra_messages_labels, autopct='%1.0f%%');\n",
    "ax2.set_title('Превышение лимита сообщений тарифа ultra')\n",
    "ax2.legend(['превысили лимит','не превысили лимит']);"
   ]
  },
  {
   "cell_type": "markdown",
   "metadata": {},
   "source": [
    "**Вывод: пользователи тарифа smart превышают лимит сообщений тарифа в 25% случаев, пользователи ultra не превышают его вообще**"
   ]
  },
  {
   "cell_type": "markdown",
   "metadata": {},
   "source": [
    "<a id='section5.4'></a>\n",
    "### Анализ использованного трафика по каждому тарифу за месяц"
   ]
  },
  {
   "cell_type": "markdown",
   "metadata": {},
   "source": [
    "#### Анализ распределения трафика"
   ]
  },
  {
   "cell_type": "code",
   "execution_count": 24,
   "metadata": {
    "scrolled": true
   },
   "outputs": [
    {
     "data": {
      "image/png": "[encoded data removed]",
      "text/plain": [
       "<Figure size 1440x360 with 1 Axes>"
      ]
     },
     "metadata": {
      "needs_background": "light"
     },
     "output_type": "display_data"
    }
   ],
   "source": [
    "#очистка столбца от значений вне указанные перцентилей\n",
    "def filter_data(data, column_name, low, high):\n",
    "    try:\n",
    "        q_min = data[column_name].quantile(low)\n",
    "        q_max = data[column_name].quantile(high)\n",
    "        filtered_column = (data[column_name] >= q_min) & (data[column_name] <= q_max)\n",
    "        return data[filtered_column]\n",
    "    except:\n",
    "        print('Ошибка фильтрации данных')\n",
    "\n",
    "        \n",
    "        \n",
    "#отфильтрованные значения\n",
    "tariff_internet = filter_data(total_per_user, 'month_mb_amount', 0.01, 0.99)\n",
    "\n",
    "#построение гистограммы распределения\n",
    "tariff_internet.groupby(by = 'tariff_name')['month_mb_amount'].hist(bins = 100, figsize=(20, 5), alpha = 0.7);\n",
    "plt.xlabel('Длительность звонков')\n",
    "plt.ylabel('Количество абонентов')\n",
    "plt.title('Гистограмма распределения длительности звонков для тарифов smart и ultra')\n",
    "plt.legend(['smart','ultra'])\n",
    "plt.show()"
   ]
  },
  {
   "cell_type": "markdown",
   "metadata": {},
   "source": [
    "**Вывод: визуально распределения похожи на нормальные, асимметрий не наблюдается**"
   ]
  },
  {
   "cell_type": "markdown",
   "metadata": {},
   "source": [
    "#### Анализ превышения лимитов по трафику тарифов"
   ]
  },
  {
   "cell_type": "code",
   "execution_count": 25,
   "metadata": {
    "scrolled": true
   },
   "outputs": [
    {
     "data": {
      "image/png": "[encoded data removed]",
      "text/plain": [
       "<Figure size 1440x360 with 2 Axes>"
      ]
     },
     "metadata": {},
     "output_type": "display_data"
    }
   ],
   "source": [
    "#расчет превышений\n",
    "smart_internet_above = (total_per_user.loc[total_per_user['tariff_name']=='smart', 'month_mb_amount'] > 15360).mean() * 100\n",
    "ultra_internet_above = (total_per_user.loc[total_per_user['tariff_name']=='ultra', 'month_mb_amount'] > 30720).mean() * 100\n",
    "\n",
    "\n",
    "smart_internet_labels = [smart_internet_above, 100 - smart_internet_above]\n",
    "ultra_internet_labels = [ultra_internet_above, 100 - ultra_internet_above]\n",
    "\n",
    "#построение диаграмм\n",
    "fig, (ax1,ax2) = plt.subplots(1,2,figsize=(20,5));\n",
    "\n",
    "ax1.pie(smart_internet_labels, autopct='%1.0f%%');\n",
    "ax1.set_title('Превышение лимита звонков тарифа smart')\n",
    "ax1.legend(['превысили лимит','не превысили лимит']);\n",
    "\n",
    "ax2.pie(ultra_internet_labels, autopct='%1.0f%%');\n",
    "ax2.set_title('Превышение лимита звонков тарифа ultra')\n",
    "ax2.legend(['превысили лимит','не превысили лимит']);\n",
    "\n",
    "      "
   ]
  },
  {
   "cell_type": "markdown",
   "metadata": {},
   "source": [
    "**Вывод: более половины пользователей тарифа smart (59%) превышают лимит трафика тарифа, пользователи ultra превышают лимит лишь в 14% случаев**"
   ]
  },
  {
   "cell_type": "markdown",
   "metadata": {},
   "source": [
    "<div class=\"alert alert-success\">\n",
    "<font size=\"5\"><b>Комментарий ревьюера</b></font>\n",
    "\n",
    "Круто, что ты оценил перерасход по услугам оператора в разрезе тарифов. Очень важная информация!\n",
    "\n",
    "</div>"
   ]
  },
  {
   "cell_type": "markdown",
   "metadata": {},
   "source": [
    "<a id='section5.5'></a>\n",
    "### Анализ выручки по тарифам smart и ultra"
   ]
  },
  {
   "cell_type": "code",
   "execution_count": 26,
   "metadata": {},
   "outputs": [
    {
     "data": {
      "image/png": "[encoded data removed]",
      "text/plain": [
       "<Figure size 1440x360 with 1 Axes>"
      ]
     },
     "metadata": {
      "needs_background": "light"
     },
     "output_type": "display_data"
    },
    {
     "name": "stdout",
     "output_type": "stream",
     "text": [
      "Средняя выручка на пользователя тарифа smart: 1294 руб.\n",
      "Средняя выручка на пользователя тарифа ultra: 2071 руб.\n",
      "Средняя выручка по тарифу smart: 2884326 руб.\n",
      "Средняя выручка по тарифу ultra: 2039935 руб.\n"
     ]
    }
   ],
   "source": [
    "#построение гистограммы распределения выручки\n",
    "total_per_user.groupby(by = 'tariff_name')['profit'].hist(bins = 50, figsize=(20, 5), alpha = 0.7);\n",
    "plt.xlabel('Выручка, руб')\n",
    "plt.ylabel('Количество абонентов')\n",
    "plt.title('Гистограмма распределения выручки для тарифов smart и ultra')\n",
    "plt.legend(['smart','ultra'])\n",
    "plt.show()\n",
    "\n",
    "#расчет средней выручки\n",
    "smart_profit_user = total_per_user.loc[total_per_user['tariff_name']=='smart', 'profit'].mean().astype(int)\n",
    "ultra_profit_user = total_per_user.loc[total_per_user['tariff_name']=='ultra', 'profit'].mean().astype(int)\n",
    "smart_profit = smart_profit_user * len(total_per_user.loc[total_per_user['tariff_name']=='smart'])\n",
    "ultra_profit = ultra_profit_user * len(total_per_user.loc[total_per_user['tariff_name']=='ultra'])\n",
    "\n",
    "print('Средняя выручка на пользователя тарифа smart:', smart_profit_user,'руб.')\n",
    "print('Средняя выручка на пользователя тарифа ultra:', ultra_profit_user,'руб.')\n",
    "print('Средняя выручка по тарифу smart:', smart_profit,'руб.')\n",
    "print('Средняя выручка по тарифу ultra:', ultra_profit,'руб.')"
   ]
  },
  {
   "cell_type": "markdown",
   "metadata": {},
   "source": [
    "**Вывод: средняя выручка на пользователя по тарифу smart превышает абонентскую плату этого тарифа более чем в 2 раза - 1233 руб. и 550 руб. соответственно. Тогда как средняя выручка по тарифу ultra приблизительно равна абонентской плате - 2060 руб. и 1950 руб. соответственно. Средние значения выручек по каждому тарифу скорее всего отичаются, однако точно мы выясним это после проверки статистических гипотез**"
   ]
  },
  {
   "cell_type": "markdown",
   "metadata": {},
   "source": [
    "<a id='section5.6'></a>\n",
    "### Выводы пятого раздела\n",
    "\n",
    "- В среднем, пользователи тарифа ultra больше звонят и отправляют больше сообщений, чем пользователи тарифа smart. Расходование трафика приблизительно одинаково (с небольшим перевесом для пользователей тарифа ultra - 16 и 19 GB соответственно). \n",
    "- Значительное количество пользователей тарифа smart превышают лимиты тарифа по длительности звонков (34% случаев), количеству сообщений (25% случаем), использованному трафику (59% случаев). \n",
    "- Пользователи тарифа ultra превышают лимит только по интернет-трафику (14% случаев).\n",
    "- Средняя выручка на пользователя по тарифу smart превышает абонентскую плату этого тарифа более чем в 2 раза - 1233 руб. и 550 руб. соответственно \n",
    "- Средняя выручка на пользователя по тарифу ultra приблизительно равна абонентской плате - 2060 руб. и 1950 руб. соответственно\n",
    "- Средние значения выручек по каждому тарифу скорее всего отичаются, однако точно мы выясним это после проверки статистических гипотез"
   ]
  },
  {
   "cell_type": "markdown",
   "metadata": {},
   "source": [
    "<div class=\"alert alert-success\">\n",
    "<font size=\"5\"><b>Комментарий ревьюера</b></font>\n",
    "\n",
    "Базовые статистические параметры получены. Приведены все необходимые графики. Здорово, что графики для одинаковых услуг тарифов приведены на одном рисунке. Так удобнее сравнивать тарифы. Также можно привести график по выручке компании с разбиением по тарифу. \n",
    "\n",
    "</div>"
   ]
  },
  {
   "cell_type": "markdown",
   "metadata": {},
   "source": [
    "<a id='section6'></a>\n",
    "## Проверка статистических гипотез"
   ]
  },
  {
   "cell_type": "markdown",
   "metadata": {},
   "source": [
    "Для проверки гипотез раздела используется t-критерий Стьюдента, так как сравниваемые выборки независимы между собой."
   ]
  },
  {
   "cell_type": "markdown",
   "metadata": {},
   "source": [
    "<a id='section6.1'></a>\n",
    "### Гипотеза 1. Средняя выручка пользователей тарифов «Ультра» и «Смарт» различается"
   ]
  },
  {
   "cell_type": "markdown",
   "metadata": {},
   "source": [
    "Сформулированные гипотезы:\n",
    "\n",
    "- H0: выручка пользователей тарифов «Ультра» и «Смарт» не различается\n",
    "- H1: выручка пользователей тарифов «Ультра» и «Смарт» различается"
   ]
  },
  {
   "cell_type": "code",
   "execution_count": 27,
   "metadata": {},
   "outputs": [
    {
     "name": "stdout",
     "output_type": "stream",
     "text": [
      "Абсолютные значения дисперсий выручек тарифов smart и ultra: [635568.2499898957, 143491.24055961374]\n",
      "\n",
      "p-value для дисперсий выручек тарифов smart и ultra: 6.164932647543217e-130 \n",
      "\n",
      "Вывод: дисперсии выборок различаются значительно. Для проверки гипотезы используем параметр equal_var = False\n"
     ]
    }
   ],
   "source": [
    "#фильтруем таблицу\n",
    "profit_filtered = filter_data(total_per_user, 'profit', 0.001, 0.999)\n",
    "\n",
    "\n",
    "data_1 = profit_filtered.loc[profit_filtered['tariff_name']=='smart', 'profit']\n",
    "data_2 = profit_filtered.loc[profit_filtered['tariff_name']=='ultra', 'profit']\n",
    "alpha = 0.05\n",
    "\n",
    "#оцениваем разницу дисперсий выборок\n",
    "print('Абсолютные значения дисперсий выручек тарифов smart и ultra:', [np.var(x, ddof=1) for x in [data_1, data_2]])\n",
    "print('\\np-value для дисперсий выручек тарифов smart и ultra:', levene(data_1, data_2).pvalue,'\\n')\n",
    "\n",
    "if (levene(data_1, data_2).pvalue < alpha):\n",
    "    print('Вывод: дисперсии выборок различаются значительно. Для проверки гипотезы используем параметр equal_var = False')\n",
    "else:\n",
    "    print('Вывод: дисперсии выборок не различаются значительно. Для проверки гипотезы используем параметр equal_var = True')"
   ]
  },
  {
   "cell_type": "markdown",
   "metadata": {},
   "source": [
    "<div class=\"alert alert-success\">\n",
    "<font size=\"5\"><b>Комментарий ревьюера 2</b></font>\n",
    "\n",
    "Здорово, что ты освоил данный стат. тест для проверки равенства дисперсий выборок. \n",
    "\n",
    "</div>"
   ]
  },
  {
   "cell_type": "code",
   "execution_count": 28,
   "metadata": {},
   "outputs": [
    {
     "name": "stdout",
     "output_type": "stream",
     "text": [
      "p-value: 1.2639093046565802e-258\n",
      "Отвергаем нулевую гипотезу\n"
     ]
    }
   ],
   "source": [
    "results = st.ttest_ind(\n",
    "    data_1,\n",
    "    data_2,\n",
    "    equal_var = False)\n",
    "\n",
    "print('p-value:', results.pvalue)\n",
    "\n",
    "if (results.pvalue < alpha):\n",
    "    print('Отвергаем нулевую гипотезу')\n",
    "else:\n",
    "    print('Не удалось отвергнуть нулевую гипотезу')"
   ]
  },
  {
   "cell_type": "markdown",
   "metadata": {},
   "source": [
    "**Вывод: нулевая гипотеза отвержена, альтернативная принята. Мы можем утверждать, что средняя выручка пользователей тарифов ultra и smart различается.**"
   ]
  },
  {
   "cell_type": "markdown",
   "metadata": {},
   "source": [
    "<div class=\"alert alert-success\">\n",
    "<font size=\"5\"><b>Комментарий ревьюера</b></font>\n",
    "\n",
    "Гипотезы сформулированы и проверены верно.\n",
    "\n",
    "</div>"
   ]
  },
  {
   "cell_type": "markdown",
   "metadata": {},
   "source": [
    "<a id='section6.2'></a>\n",
    "### Гипотеза 2. Средняя выручка пользователей из Москвы отличается от выручки пользователей из других регионов"
   ]
  },
  {
   "cell_type": "markdown",
   "metadata": {},
   "source": [
    "Сформулированные гипотезы:\n",
    "\n",
    "- H0: средняя выручка пользователей из Москвы не отличается от выручки пользователей из других регионов\n",
    "- H1: средняя выручка пользователей из Москвы отличается от выручки пользователей из других регионов"
   ]
  },
  {
   "cell_type": "code",
   "execution_count": 29,
   "metadata": {},
   "outputs": [
    {
     "name": "stdout",
     "output_type": "stream",
     "text": [
      "Абсолютные значения дисперсий выручек тарифов smart и ultra: [566183.0292184271, 627184.7435526958]\n",
      "\n",
      "p-value для дисперсий выручек тарифов smart и ultra: 0.015211991307031278 \n",
      "\n",
      "Вывод: дисперсии выборок различаются значительно. Для проверки гипотезы используем параметр equal_var = False\n"
     ]
    }
   ],
   "source": [
    "data_3 = profit_filtered.loc[profit_filtered['city'] == 'Москва', 'profit']\n",
    "data_4 = profit_filtered.loc[profit_filtered['city'] != 'Москва', 'profit']\n",
    "alpha = 0.05\n",
    "\n",
    "\n",
    "#оцениваем разницу дисперсий выборок\n",
    "print('Абсолютные значения дисперсий выручек тарифов smart и ultra:', [np.var(x, ddof=1) for x in [data_3, data_4]])\n",
    "print('\\np-value для дисперсий выручек тарифов smart и ultra:', levene(data_3, data_4).pvalue,'\\n')\n",
    "\n",
    "if (levene(data_3, data_4).pvalue < alpha):\n",
    "    print('Вывод: дисперсии выборок различаются значительно. Для проверки гипотезы используем параметр equal_var = False')\n",
    "else:\n",
    "    print('Вывод: дисперсии выборок не различаются значительно. Для проверки гипотезы используем параметр equal_var = True')"
   ]
  },
  {
   "cell_type": "code",
   "execution_count": 30,
   "metadata": {},
   "outputs": [
    {
     "name": "stdout",
     "output_type": "stream",
     "text": [
      "p-value: 0.39138554747373666\n",
      "Не удалось отвергнуть нулевую гипотезу\n"
     ]
    }
   ],
   "source": [
    "results = st.ttest_ind(\n",
    "    data_3,\n",
    "    data_4,\n",
    "    equal_var = False)\n",
    "\n",
    "print('p-value:', results.pvalue)\n",
    "\n",
    "if (results.pvalue < alpha):\n",
    "    print('Отвергаем нулевую гипотезу')\n",
    "else:\n",
    "    print('Не удалось отвергнуть нулевую гипотезу')"
   ]
  },
  {
   "cell_type": "markdown",
   "metadata": {},
   "source": [
    "**Вывод: нулевая гипотеза не отвержена. Мы можем утверждать, что выручка пользователей из Москвы отличается от выручки пользователей из других регионов.**"
   ]
  },
  {
   "cell_type": "markdown",
   "metadata": {},
   "source": [
    "<div class=\"alert alert-danger\">\n",
    "<font size=\"5\"><b>Комментарий ревьюера</b></font>\n",
    "\n",
    "Прежде чем произвести проверку гипотезы через T-критерий Стьюдента произведи проверку дисперсии выборок, чтобы понять с каким параметром использовать метод проверки. Параметр equal_var ты уточнил, однако не совсем ясна причина, по которой нам следует использовать False. Обоснуй данный выбор. Если при их сравнении мы получим расхождение более чем в 5%, то мы можем сказать, что дисперсии различны. Также проверить равенство дисперсий нам может помочь [такой тест](https://docs.scipy.org/doc/scipy/reference/generated/scipy.stats.levene.html).\n",
    "\n",
    "</div>"
   ]
  },
  {
   "cell_type": "markdown",
   "metadata": {},
   "source": [
    "<div class=\"alert alert-block alert-info\">\n",
    "    \n",
    "**Добрботка студента**\n",
    "    \n",
    "Добавлены блоки проверки дисперсий выборок</div>"
   ]
  },
  {
   "cell_type": "markdown",
   "metadata": {},
   "source": [
    "<div class=\"alert alert-success\">\n",
    "<font size=\"5\"><b>Комментарий ревьюера 2</b></font>\n",
    "\n",
    "Увидел. Уточнение параметра equal_var позволяет нам увеличить точность проводимых тестов. \n",
    "\n",
    "</div>"
   ]
  },
  {
   "cell_type": "markdown",
   "metadata": {},
   "source": [
    "<a id='section6.3'></a>\n",
    "### Выводы шестого раздела"
   ]
  },
  {
   "cell_type": "markdown",
   "metadata": {},
   "source": [
    "Была проведена проверка гипотез. Установлено, что:\n",
    "\n",
    "1. средняя выручка пользователей тарифов «Ультра» и «Смарт» различается\n",
    "2. средняя выручка пользователей из Москвы не отличается от выручки пользователей из других регионов\n"
   ]
  },
  {
   "cell_type": "markdown",
   "metadata": {},
   "source": [
    "<a id='section7'></a>\n",
    "## Общие выводы проекта\n",
    "\n",
    "В проекте были рассмотрены два тарифных плана оператора «Мегалайн»: «Смарт» и «Ультра». Основной задачей являлось определение тарифа компании, который приносит больше прибыли. Для анализа использовалась выборка по 500 пользователям «Мегалайна» за 2018 год.\n",
    "\n",
    "Результаты анализа следующие:\n",
    "\n",
    "1. Средняя выручка пользователей тарифов «Ультра» и «Смарт» различается\n",
    "2. Средняя выручка пользователей из Москвы не отличается от выручки пользователей из других регионов\n",
    "3. Значительное количество пользователей тарифа smart превышают лимиты тарифа по длительности звонков (34% случаев), количеству сообщений (25% случаев), использованному трафику (59% случаев). \n",
    "4. В среднем, пользователи тарифа ultra больше звонят и отправляют больше сообщений, чем пользователи тарифа smart. \n",
    "5. Расходование трафика приблизительно одинаково (с небольшим перевесом для пользователей тарифа ultra - 16 и 19 GB соответственно). \n",
    "6. Пользователи тарифа ultra превышают лимит только по интернет-трафику (14% случаев).\n",
    "7. Средняя выручка по тарифу smart превышает абонентскую плату этого тарифа более чем в 2 раза (1233 руб. и 550 руб. соответственно)\n",
    "8. Средняя выручка по тарифу ultra приблизительно равна абонентской плате (2060 руб. и 1950 руб. соответственно)\n",
    "\n",
    "Предполагая, что выборка репрезентативна (правильно представлены доли пользователей тарифов) можно сделать главный вывод:\n",
    "\n",
    " **Основную прибыль компании \"Мегалайн\" приности тариф «Смарт» из-за его высокой популярности. Есть смысл провести эксперименты со стоимостью тарифа «Смарт» - пользователи готовы доплачивать сумму, почти равную абонентской плате за превышение лимита тарифа**. \n",
    " \n",
    "Бизнесу также стоит обратить внимание на следующие моменты: \n",
    " \n",
    "- Превышение лимитов у обоих тарифов чаще приходится на интернет трафик - стоит изучить паттерны абонентов детальнее, либо сформировать отдельный тариф на интернет-трафик\n",
    "- Выручка по тарифу «Ультра» не может опуститься ниже абонентской платы, в то время как тарифу «Смарт» проще стать менее прибыльным. такой тариф может стать хорошей страховкой на время проведения экспериментов с тарифм «Смарт»\n",
    "- Возможно стоит подумать над промежуточным по стоимости и лимитам тарифом"
   ]
  },
  {
   "cell_type": "markdown",
   "metadata": {},
   "source": [
    "<div class=\"alert alert-success\">\n",
    "<font size=\"5\"><b>Комментарий ревьюера</b></font>\n",
    "\n",
    "Выводы описаны грамотно. Приведены ответы на главные вопросы проекта. В выводах можно приводить полученные ранее значения, правильно. Здорово, что по каждому пункту анализа приведен вывод, а также то, что ты привел рекомендации для оператора по дальнейшим действиям.     \n",
    "\n",
    "</div>"
   ]
  },
  {
   "cell_type": "markdown",
   "metadata": {},
   "source": [
    "<div class=\"alert alert-warning\">\n",
    "<font size=\"5\"><b>Комментарий ревьюера</b></font>\n",
    "\n",
    "Если тебе нравится тема визуализации, то можешь изучить методы библиотеки seaborn. Она позволяет строить довольно презентабельные графики.\n",
    "\n",
    "Ты проделал большую работу, молодец! Проект уже получился классным! Критических замечаний немного. Однако с ними важно поработать. Думаю, исправить их тебе не составит труда. Жду твою работу :)\n",
    "\n",
    "</div>"
   ]
  },
  {
   "cell_type": "markdown",
   "metadata": {},
   "source": [
    "<div class=\"alert alert-success\">\n",
    "<font size=\"5\"><b>Комментарий ревьюера 2</b></font>\n",
    "\n",
    "Помарки исправлены, теперь работа выполнена хорошо. Проект получился классным! Спасибо за оставленные комментарии по исправлениям. Успехов в дальнейших проектах :)\n",
    "\n",
    "</div>\n",
    "   "
   ]
  }
 ],
 "metadata": {
  "kernelspec": {
   "display_name": "Python 3",
   "language": "python",
   "name": "python3"
  },
  "language_info": {
   "codemirror_mode": {
    "name": "ipython",
    "version": 3
   },
   "file_extension": ".py",
   "mimetype": "text/x-python",
   "name": "python",
   "nbconvert_exporter": "python",
   "pygments_lexer": "ipython3",
   "version": "3.7.8"
  },
  "toc": {
   "base_numbering": 1,
   "nav_menu": {},
   "number_sections": true,
   "sideBar": true,
   "skip_h1_title": true,
   "title_cell": "Table of Contents",
   "title_sidebar": "Contents",
   "toc_cell": false,
   "toc_position": {},
   "toc_section_display": true,
   "toc_window_display": false
  }
 },
 "nbformat": 4,
 "nbformat_minor": 2
}
